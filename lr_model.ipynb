{
 "cells": [
  {
   "cell_type": "code",
   "execution_count": 1,
   "metadata": {},
   "outputs": [],
   "source": [
    "import pandas as pd\n",
    "import numpy as np\n",
    "\n",
    "from sklearn.preprocessing import OneHotEncoder, StandardScaler\n",
    "from sklearn.linear_model import LinearRegression, Ridge, Lasso, ElasticNet\n",
    "from sklearn.model_selection import GridSearchCV\n",
    "from sklearn.pipeline import make_pipeline\n",
    "from sklearn.compose import make_column_transformer, make_column_selector, TransformedTargetRegressor\n",
    "from sklearn.metrics import mean_squared_error\n"
   ]
  },
  {
   "cell_type": "markdown",
   "metadata": {},
   "source": [
    "### Load Data"
   ]
  },
  {
   "cell_type": "code",
   "execution_count": 2,
   "metadata": {},
   "outputs": [],
   "source": [
    "train = pd.read_csv('datasets/train_cleaned.csv', index_col='Id', na_filter=False)"
   ]
  },
  {
   "cell_type": "code",
   "execution_count": 3,
   "metadata": {},
   "outputs": [],
   "source": [
    "X = train.drop(columns = 'SalePrice')\n",
    "y = train['SalePrice']"
   ]
  },
  {
   "cell_type": "code",
   "execution_count": 4,
   "metadata": {},
   "outputs": [
    {
     "data": {
      "text/html": [
       "<div>\n",
       "<style scoped>\n",
       "    .dataframe tbody tr th:only-of-type {\n",
       "        vertical-align: middle;\n",
       "    }\n",
       "\n",
       "    .dataframe tbody tr th {\n",
       "        vertical-align: top;\n",
       "    }\n",
       "\n",
       "    .dataframe thead th {\n",
       "        text-align: right;\n",
       "    }\n",
       "</style>\n",
       "<table border=\"1\" class=\"dataframe\">\n",
       "  <thead>\n",
       "    <tr style=\"text-align: right;\">\n",
       "      <th></th>\n",
       "      <th>MS Zoning</th>\n",
       "      <th>Lot Frontage</th>\n",
       "      <th>Lot Area</th>\n",
       "      <th>Street</th>\n",
       "      <th>Alley</th>\n",
       "      <th>Lot Shape</th>\n",
       "      <th>Land Contour</th>\n",
       "      <th>Utilities</th>\n",
       "      <th>Lot Config</th>\n",
       "      <th>Land Slope</th>\n",
       "      <th>...</th>\n",
       "      <th>is Shed</th>\n",
       "      <th>is PUD</th>\n",
       "      <th>Cond Feeder</th>\n",
       "      <th>Cond Artery</th>\n",
       "      <th>Cond Pos</th>\n",
       "      <th>Cond RR</th>\n",
       "      <th>Porch SF</th>\n",
       "      <th>MoYr Sold</th>\n",
       "      <th>is Remodeled</th>\n",
       "      <th>Last Remodel</th>\n",
       "    </tr>\n",
       "    <tr>\n",
       "      <th>Id</th>\n",
       "      <th></th>\n",
       "      <th></th>\n",
       "      <th></th>\n",
       "      <th></th>\n",
       "      <th></th>\n",
       "      <th></th>\n",
       "      <th></th>\n",
       "      <th></th>\n",
       "      <th></th>\n",
       "      <th></th>\n",
       "      <th></th>\n",
       "      <th></th>\n",
       "      <th></th>\n",
       "      <th></th>\n",
       "      <th></th>\n",
       "      <th></th>\n",
       "      <th></th>\n",
       "      <th></th>\n",
       "      <th></th>\n",
       "      <th></th>\n",
       "      <th></th>\n",
       "    </tr>\n",
       "  </thead>\n",
       "  <tbody>\n",
       "    <tr>\n",
       "      <th>2658</th>\n",
       "      <td>RM</td>\n",
       "      <td>69.0000</td>\n",
       "      <td>9142</td>\n",
       "      <td>1</td>\n",
       "      <td>Grvl</td>\n",
       "      <td>0</td>\n",
       "      <td>Lvl</td>\n",
       "      <td>AllPub</td>\n",
       "      <td>Inside</td>\n",
       "      <td>0</td>\n",
       "      <td>...</td>\n",
       "      <td>0</td>\n",
       "      <td>0</td>\n",
       "      <td>0</td>\n",
       "      <td>0</td>\n",
       "      <td>0</td>\n",
       "      <td>0</td>\n",
       "      <td>172</td>\n",
       "      <td>2006.333333</td>\n",
       "      <td>1</td>\n",
       "      <td>56</td>\n",
       "    </tr>\n",
       "    <tr>\n",
       "      <th>2718</th>\n",
       "      <td>RL</td>\n",
       "      <td>69.0552</td>\n",
       "      <td>9662</td>\n",
       "      <td>1</td>\n",
       "      <td>None</td>\n",
       "      <td>1</td>\n",
       "      <td>Lvl</td>\n",
       "      <td>AllPub</td>\n",
       "      <td>Inside</td>\n",
       "      <td>0</td>\n",
       "      <td>...</td>\n",
       "      <td>0</td>\n",
       "      <td>0</td>\n",
       "      <td>0</td>\n",
       "      <td>0</td>\n",
       "      <td>0</td>\n",
       "      <td>0</td>\n",
       "      <td>170</td>\n",
       "      <td>2006.666667</td>\n",
       "      <td>0</td>\n",
       "      <td>29</td>\n",
       "    </tr>\n",
       "    <tr>\n",
       "      <th>2414</th>\n",
       "      <td>RL</td>\n",
       "      <td>58.0000</td>\n",
       "      <td>17104</td>\n",
       "      <td>1</td>\n",
       "      <td>None</td>\n",
       "      <td>1</td>\n",
       "      <td>Lvl</td>\n",
       "      <td>AllPub</td>\n",
       "      <td>Inside</td>\n",
       "      <td>0</td>\n",
       "      <td>...</td>\n",
       "      <td>0</td>\n",
       "      <td>0</td>\n",
       "      <td>0</td>\n",
       "      <td>0</td>\n",
       "      <td>0</td>\n",
       "      <td>0</td>\n",
       "      <td>124</td>\n",
       "      <td>2006.750000</td>\n",
       "      <td>0</td>\n",
       "      <td>0</td>\n",
       "    </tr>\n",
       "    <tr>\n",
       "      <th>1989</th>\n",
       "      <td>RM</td>\n",
       "      <td>60.0000</td>\n",
       "      <td>8520</td>\n",
       "      <td>1</td>\n",
       "      <td>None</td>\n",
       "      <td>0</td>\n",
       "      <td>Lvl</td>\n",
       "      <td>AllPub</td>\n",
       "      <td>Inside</td>\n",
       "      <td>0</td>\n",
       "      <td>...</td>\n",
       "      <td>0</td>\n",
       "      <td>0</td>\n",
       "      <td>0</td>\n",
       "      <td>0</td>\n",
       "      <td>0</td>\n",
       "      <td>0</td>\n",
       "      <td>184</td>\n",
       "      <td>2007.583333</td>\n",
       "      <td>1</td>\n",
       "      <td>1</td>\n",
       "    </tr>\n",
       "    <tr>\n",
       "      <th>625</th>\n",
       "      <td>RL</td>\n",
       "      <td>69.0552</td>\n",
       "      <td>9500</td>\n",
       "      <td>1</td>\n",
       "      <td>None</td>\n",
       "      <td>1</td>\n",
       "      <td>Lvl</td>\n",
       "      <td>AllPub</td>\n",
       "      <td>Inside</td>\n",
       "      <td>0</td>\n",
       "      <td>...</td>\n",
       "      <td>0</td>\n",
       "      <td>0</td>\n",
       "      <td>0</td>\n",
       "      <td>0</td>\n",
       "      <td>0</td>\n",
       "      <td>0</td>\n",
       "      <td>261</td>\n",
       "      <td>2009.583333</td>\n",
       "      <td>0</td>\n",
       "      <td>46</td>\n",
       "    </tr>\n",
       "  </tbody>\n",
       "</table>\n",
       "<p>5 rows × 64 columns</p>\n",
       "</div>"
      ],
      "text/plain": [
       "     MS Zoning  Lot Frontage  Lot Area  Street Alley  Lot Shape Land Contour  \\\n",
       "Id                                                                             \n",
       "2658        RM       69.0000      9142       1  Grvl          0          Lvl   \n",
       "2718        RL       69.0552      9662       1  None          1          Lvl   \n",
       "2414        RL       58.0000     17104       1  None          1          Lvl   \n",
       "1989        RM       60.0000      8520       1  None          0          Lvl   \n",
       "625         RL       69.0552      9500       1  None          1          Lvl   \n",
       "\n",
       "     Utilities Lot Config  Land Slope  ... is Shed is PUD Cond Feeder  \\\n",
       "Id                                     ...                              \n",
       "2658    AllPub     Inside           0  ...       0      0           0   \n",
       "2718    AllPub     Inside           0  ...       0      0           0   \n",
       "2414    AllPub     Inside           0  ...       0      0           0   \n",
       "1989    AllPub     Inside           0  ...       0      0           0   \n",
       "625     AllPub     Inside           0  ...       0      0           0   \n",
       "\n",
       "      Cond Artery  Cond Pos  Cond RR Porch SF    MoYr Sold  is Remodeled  \\\n",
       "Id                                                                         \n",
       "2658            0         0        0      172  2006.333333             1   \n",
       "2718            0         0        0      170  2006.666667             0   \n",
       "2414            0         0        0      124  2006.750000             0   \n",
       "1989            0         0        0      184  2007.583333             1   \n",
       "625             0         0        0      261  2009.583333             0   \n",
       "\n",
       "      Last Remodel  \n",
       "Id                  \n",
       "2658            56  \n",
       "2718            29  \n",
       "2414             0  \n",
       "1989             1  \n",
       "625             46  \n",
       "\n",
       "[5 rows x 64 columns]"
      ]
     },
     "execution_count": 4,
     "metadata": {},
     "output_type": "execute_result"
    }
   ],
   "source": [
    "X_test = pd.read_csv('datasets/test_cleaned.csv', index_col = 'Id', na_filter=False)\n",
    "X_test.head()"
   ]
  },
  {
   "cell_type": "code",
   "execution_count": 5,
   "metadata": {},
   "outputs": [
    {
     "data": {
      "text/plain": [
       "False"
      ]
     },
     "execution_count": 5,
     "metadata": {},
     "output_type": "execute_result"
    }
   ],
   "source": [
    "X.isna().any().any()"
   ]
  },
  {
   "cell_type": "code",
   "execution_count": 6,
   "metadata": {},
   "outputs": [
    {
     "data": {
      "text/plain": [
       "False"
      ]
     },
     "execution_count": 6,
     "metadata": {},
     "output_type": "execute_result"
    }
   ],
   "source": [
    "X_test.isna().any().any()"
   ]
  },
  {
   "cell_type": "code",
   "execution_count": 7,
   "metadata": {},
   "outputs": [
    {
     "data": {
      "text/html": [
       "<div>\n",
       "<style scoped>\n",
       "    .dataframe tbody tr th:only-of-type {\n",
       "        vertical-align: middle;\n",
       "    }\n",
       "\n",
       "    .dataframe tbody tr th {\n",
       "        vertical-align: top;\n",
       "    }\n",
       "\n",
       "    .dataframe thead th {\n",
       "        text-align: right;\n",
       "    }\n",
       "</style>\n",
       "<table border=\"1\" class=\"dataframe\">\n",
       "  <thead>\n",
       "    <tr style=\"text-align: right;\">\n",
       "      <th></th>\n",
       "      <th>MS Zoning</th>\n",
       "      <th>Lot Frontage</th>\n",
       "      <th>Lot Area</th>\n",
       "      <th>Street</th>\n",
       "      <th>Alley</th>\n",
       "      <th>Lot Shape</th>\n",
       "      <th>Land Contour</th>\n",
       "      <th>Utilities</th>\n",
       "      <th>Lot Config</th>\n",
       "      <th>Land Slope</th>\n",
       "      <th>...</th>\n",
       "      <th>Garage Ratio</th>\n",
       "      <th>is Shed</th>\n",
       "      <th>is PUD</th>\n",
       "      <th>Cond Feeder</th>\n",
       "      <th>Cond Artery</th>\n",
       "      <th>Cond Pos</th>\n",
       "      <th>Cond RR</th>\n",
       "      <th>Porch SF</th>\n",
       "      <th>is Remodeled</th>\n",
       "      <th>Last Remodel</th>\n",
       "    </tr>\n",
       "    <tr>\n",
       "      <th>Id</th>\n",
       "      <th></th>\n",
       "      <th></th>\n",
       "      <th></th>\n",
       "      <th></th>\n",
       "      <th></th>\n",
       "      <th></th>\n",
       "      <th></th>\n",
       "      <th></th>\n",
       "      <th></th>\n",
       "      <th></th>\n",
       "      <th></th>\n",
       "      <th></th>\n",
       "      <th></th>\n",
       "      <th></th>\n",
       "      <th></th>\n",
       "      <th></th>\n",
       "      <th></th>\n",
       "      <th></th>\n",
       "      <th></th>\n",
       "      <th></th>\n",
       "      <th></th>\n",
       "    </tr>\n",
       "  </thead>\n",
       "  <tbody>\n",
       "    <tr>\n",
       "      <th>109</th>\n",
       "      <td>RL</td>\n",
       "      <td>69.0552</td>\n",
       "      <td>13517</td>\n",
       "      <td>1</td>\n",
       "      <td>None</td>\n",
       "      <td>1</td>\n",
       "      <td>Lvl</td>\n",
       "      <td>AllPub</td>\n",
       "      <td>CulDSac</td>\n",
       "      <td>0</td>\n",
       "      <td>...</td>\n",
       "      <td>237.5</td>\n",
       "      <td>0</td>\n",
       "      <td>0</td>\n",
       "      <td>0</td>\n",
       "      <td>0</td>\n",
       "      <td>0</td>\n",
       "      <td>1</td>\n",
       "      <td>44</td>\n",
       "      <td>1</td>\n",
       "      <td>5</td>\n",
       "    </tr>\n",
       "    <tr>\n",
       "      <th>544</th>\n",
       "      <td>RL</td>\n",
       "      <td>43.0000</td>\n",
       "      <td>11492</td>\n",
       "      <td>1</td>\n",
       "      <td>None</td>\n",
       "      <td>1</td>\n",
       "      <td>Lvl</td>\n",
       "      <td>AllPub</td>\n",
       "      <td>CulDSac</td>\n",
       "      <td>0</td>\n",
       "      <td>...</td>\n",
       "      <td>279.5</td>\n",
       "      <td>0</td>\n",
       "      <td>0</td>\n",
       "      <td>0</td>\n",
       "      <td>0</td>\n",
       "      <td>0</td>\n",
       "      <td>0</td>\n",
       "      <td>74</td>\n",
       "      <td>1</td>\n",
       "      <td>12</td>\n",
       "    </tr>\n",
       "    <tr>\n",
       "      <th>153</th>\n",
       "      <td>RL</td>\n",
       "      <td>68.0000</td>\n",
       "      <td>7922</td>\n",
       "      <td>1</td>\n",
       "      <td>None</td>\n",
       "      <td>0</td>\n",
       "      <td>Lvl</td>\n",
       "      <td>AllPub</td>\n",
       "      <td>Inside</td>\n",
       "      <td>0</td>\n",
       "      <td>...</td>\n",
       "      <td>246.0</td>\n",
       "      <td>0</td>\n",
       "      <td>0</td>\n",
       "      <td>0</td>\n",
       "      <td>0</td>\n",
       "      <td>0</td>\n",
       "      <td>0</td>\n",
       "      <td>52</td>\n",
       "      <td>1</td>\n",
       "      <td>3</td>\n",
       "    </tr>\n",
       "    <tr>\n",
       "      <th>318</th>\n",
       "      <td>RL</td>\n",
       "      <td>73.0000</td>\n",
       "      <td>9802</td>\n",
       "      <td>1</td>\n",
       "      <td>None</td>\n",
       "      <td>0</td>\n",
       "      <td>Lvl</td>\n",
       "      <td>AllPub</td>\n",
       "      <td>Inside</td>\n",
       "      <td>0</td>\n",
       "      <td>...</td>\n",
       "      <td>200.0</td>\n",
       "      <td>0</td>\n",
       "      <td>0</td>\n",
       "      <td>0</td>\n",
       "      <td>0</td>\n",
       "      <td>0</td>\n",
       "      <td>0</td>\n",
       "      <td>100</td>\n",
       "      <td>1</td>\n",
       "      <td>3</td>\n",
       "    </tr>\n",
       "    <tr>\n",
       "      <th>255</th>\n",
       "      <td>RL</td>\n",
       "      <td>82.0000</td>\n",
       "      <td>14235</td>\n",
       "      <td>1</td>\n",
       "      <td>None</td>\n",
       "      <td>1</td>\n",
       "      <td>Lvl</td>\n",
       "      <td>AllPub</td>\n",
       "      <td>Inside</td>\n",
       "      <td>0</td>\n",
       "      <td>...</td>\n",
       "      <td>242.0</td>\n",
       "      <td>0</td>\n",
       "      <td>0</td>\n",
       "      <td>0</td>\n",
       "      <td>0</td>\n",
       "      <td>0</td>\n",
       "      <td>0</td>\n",
       "      <td>59</td>\n",
       "      <td>1</td>\n",
       "      <td>17</td>\n",
       "    </tr>\n",
       "  </tbody>\n",
       "</table>\n",
       "<p>5 rows × 64 columns</p>\n",
       "</div>"
      ],
      "text/plain": [
       "    MS Zoning  Lot Frontage  Lot Area  Street Alley  Lot Shape Land Contour  \\\n",
       "Id                                                                            \n",
       "109        RL       69.0552     13517       1  None          1          Lvl   \n",
       "544        RL       43.0000     11492       1  None          1          Lvl   \n",
       "153        RL       68.0000      7922       1  None          0          Lvl   \n",
       "318        RL       73.0000      9802       1  None          0          Lvl   \n",
       "255        RL       82.0000     14235       1  None          1          Lvl   \n",
       "\n",
       "    Utilities Lot Config  Land Slope  ... Garage Ratio is Shed is PUD  \\\n",
       "Id                                    ...                               \n",
       "109    AllPub    CulDSac           0  ...        237.5       0      0   \n",
       "544    AllPub    CulDSac           0  ...        279.5       0      0   \n",
       "153    AllPub     Inside           0  ...        246.0       0      0   \n",
       "318    AllPub     Inside           0  ...        200.0       0      0   \n",
       "255    AllPub     Inside           0  ...        242.0       0      0   \n",
       "\n",
       "     Cond Feeder  Cond Artery  Cond Pos Cond RR Porch SF  is Remodeled  \\\n",
       "Id                                                                       \n",
       "109            0            0         0       1       44             1   \n",
       "544            0            0         0       0       74             1   \n",
       "153            0            0         0       0       52             1   \n",
       "318            0            0         0       0      100             1   \n",
       "255            0            0         0       0       59             1   \n",
       "\n",
       "     Last Remodel  \n",
       "Id                 \n",
       "109             5  \n",
       "544            12  \n",
       "153             3  \n",
       "318             3  \n",
       "255            17  \n",
       "\n",
       "[5 rows x 64 columns]"
      ]
     },
     "execution_count": 7,
     "metadata": {},
     "output_type": "execute_result"
    }
   ],
   "source": [
    "X.head()"
   ]
  },
  {
   "cell_type": "code",
   "execution_count": 8,
   "metadata": {},
   "outputs": [
    {
     "data": {
      "text/plain": [
       "MS Zoning        object\n",
       "Lot Frontage    float64\n",
       "Lot Area          int64\n",
       "Street            int64\n",
       "Alley            object\n",
       "                 ...   \n",
       "Cond Pos          int64\n",
       "Cond RR           int64\n",
       "Porch SF          int64\n",
       "is Remodeled      int64\n",
       "Last Remodel      int64\n",
       "Length: 64, dtype: object"
      ]
     },
     "execution_count": 8,
     "metadata": {},
     "output_type": "execute_result"
    }
   ],
   "source": [
    "X.dtypes"
   ]
  },
  {
   "cell_type": "code",
   "execution_count": 9,
   "metadata": {},
   "outputs": [
    {
     "data": {
      "text/plain": [
       "None    1911\n",
       "Grvl      85\n",
       "Pave      55\n",
       "Name: Alley, dtype: int64"
      ]
     },
     "execution_count": 9,
     "metadata": {},
     "output_type": "execute_result"
    }
   ],
   "source": [
    "X['Alley'].value_counts()"
   ]
  },
  {
   "cell_type": "markdown",
   "metadata": {},
   "source": [
    "### Helper Functions"
   ]
  },
  {
   "cell_type": "markdown",
   "metadata": {},
   "source": [
    "#### Fit model, score on train, predict, and save outputs"
   ]
  },
  {
   "cell_type": "code",
   "execution_count": 10,
   "metadata": {},
   "outputs": [],
   "source": [
    "def run_model(model, out, X = X, X_test = X_test):\n",
    "    model.fit(X, y)\n",
    "    print(model.score(X, y))\n",
    "    preds = model.predict(X_test)\n",
    "    out_df = pd.DataFrame(preds, columns = ['SalePrice'], index = X_test.index)\n",
    "    out_df.to_csv('submission/' + out + '.csv')"
   ]
  },
  {
   "cell_type": "markdown",
   "metadata": {},
   "source": [
    "### Linear Regression model"
   ]
  },
  {
   "cell_type": "code",
   "execution_count": 11,
   "metadata": {},
   "outputs": [],
   "source": [
    "encoder = make_column_transformer(\n",
    "    (OneHotEncoder(handle_unknown='ignore'), make_column_selector(dtype_include=object)),\n",
    "    (OneHotEncoder(), ['Mo Sold', 'Yr Sold', 'MoYr Sold']),\n",
    "    (StandardScaler(), make_column_selector(dtype_include = [int, float])),\n",
    "    remainder='passthrough',\n",
    "    verbose_feature_names_out=False\n",
    ")"
   ]
  },
  {
   "cell_type": "code",
   "execution_count": 115,
   "metadata": {},
   "outputs": [],
   "source": [
    "# pd.DataFrame(encoder.fit_transform(X[['Alley']])).sum()"
   ]
  },
  {
   "cell_type": "code",
   "execution_count": 11,
   "metadata": {},
   "outputs": [],
   "source": [
    "pipe = make_pipeline(\n",
    "    encoder,\n",
    "    LinearRegression()\n",
    ")"
   ]
  },
  {
   "cell_type": "code",
   "execution_count": 12,
   "metadata": {},
   "outputs": [
    {
     "data": {
      "text/plain": [
       "Pipeline(steps=[('columntransformer',\n",
       "                 ColumnTransformer(remainder='passthrough',\n",
       "                                   transformers=[('onehotencoder-1',\n",
       "                                                  OneHotEncoder(handle_unknown='ignore'),\n",
       "                                                  <sklearn.compose._column_transformer.make_column_selector object at 0x000002552E37D250>),\n",
       "                                                 ('onehotencoder-2',\n",
       "                                                  OneHotEncoder(),\n",
       "                                                  ['Mo Sold', 'Yr Sold',\n",
       "                                                   'MoYr Sold']),\n",
       "                                                 ('standardscaler',\n",
       "                                                  StandardScaler(),\n",
       "                                                  <sklearn.compose._column_transformer.make_column_selector object at 0x000002552E37D970>)],\n",
       "                                   verbose_feature_names_out=False)),\n",
       "                ('linearregression', LinearRegression())])"
      ]
     },
     "execution_count": 12,
     "metadata": {},
     "output_type": "execute_result"
    }
   ],
   "source": [
    "pipe.fit(X, y)"
   ]
  },
  {
   "cell_type": "code",
   "execution_count": 13,
   "metadata": {},
   "outputs": [
    {
     "data": {
      "text/plain": [
       "0.9049148098460276"
      ]
     },
     "execution_count": 13,
     "metadata": {},
     "output_type": "execute_result"
    }
   ],
   "source": [
    "pipe.score(X, y)"
   ]
  },
  {
   "cell_type": "code",
   "execution_count": 14,
   "metadata": {},
   "outputs": [
    {
     "data": {
      "text/plain": [
       "array([ 5.88563600e+03, -1.37620419e+03, -2.28987594e+03, -2.21955587e+03,\n",
       "        8.24888585e+02,  8.10938556e+02, -1.63582714e+03, -1.01244490e+04,\n",
       "        1.05922503e+04,  4.69421678e+02, -9.37223012e+02,  6.01171461e+03,\n",
       "       -4.18783681e+04,  3.58666535e+04,  2.73572622e+03,  6.84110085e+03,\n",
       "       -1.47478516e+03, -1.06280184e+04,  2.52597646e+03,  3.87895810e+03,\n",
       "        8.70658021e+03, -1.06656697e+04, -7.40159588e+03, -9.88867288e+03,\n",
       "        5.17932073e+03, -2.25313250e+04, -1.32843698e+04, -1.67009021e+04,\n",
       "        3.81360198e+03, -1.08467086e+04, -1.18610808e+04,  1.39978464e+04,\n",
       "       -1.61396252e+04,  2.65798653e+04,  3.71799836e+04, -1.87490483e+04,\n",
       "       -1.77647292e+04, -1.19209809e+04, -1.14892743e+04,  6.99962499e+03,\n",
       "        4.77778437e+04, -6.43447671e+03,  6.72674537e+03,  2.48380890e+04,\n",
       "        5.80391687e+03, -4.56290249e+01, -5.50021483e+03, -6.21545512e+03,\n",
       "        5.95738210e+03,  3.53780200e+03,  2.91844699e+03,  1.03211141e+04,\n",
       "       -1.59862091e+04,  4.72708989e+03, -4.14191513e+03,  2.71105307e+03,\n",
       "       -4.08738187e+03, -2.47283085e+03, -5.21553207e+02,  4.54088404e+03,\n",
       "        5.54944579e+03, -2.85675294e+04,  2.14715836e+04, -1.32097919e+04,\n",
       "        1.18261660e+03,  4.92104560e+03,  7.10612974e+03,  2.70472440e+04,\n",
       "       -1.05694438e+04, -7.06517615e+03, -9.41262408e+03, -1.13626776e+03,\n",
       "        6.34537804e+03,  5.32454490e+03, -2.43365499e+04,  1.38028948e+04,\n",
       "        7.30108579e+03, -7.56877047e+03,  3.67393489e+02,  1.22069806e+03,\n",
       "        1.08266600e+03, -2.40307288e+03, -8.33072368e+03,  4.20943933e+03,\n",
       "       -2.23505080e+03,  4.79861207e+03,  6.78055928e+02,  2.85817546e+03,\n",
       "       -1.97850831e+03,  1.66906943e+03,  2.98004848e+03, -3.82537628e+03,\n",
       "       -8.23741629e+02,  1.23693120e+05, -3.44509151e+04, -4.73299774e+03,\n",
       "        2.98004848e+03, -5.29812680e+04, -3.45079877e+04, -1.17850470e+05,\n",
       "        2.61367974e+04,  2.88573327e+04,  2.98004848e+03,  3.04896090e+04,\n",
       "        2.93866822e+04,  8.47938655e+02, -3.00413669e+03,  2.15619804e+03,\n",
       "        2.26196457e+03, -1.66960435e+03, -2.32557726e+03, -1.38849255e+03,\n",
       "        2.66042505e+03, -9.31414923e+02,  4.21659184e+03, -1.93381902e+03,\n",
       "        2.52941064e+03, -4.77093881e+03,  8.60311079e+02,  4.91143731e+02,\n",
       "        1.81175411e+03, -1.31089450e+03, -1.00447218e+03, -9.76178240e+02,\n",
       "        1.47979082e+03,  3.67191763e+03, -2.51312186e+03, -1.19579189e+03,\n",
       "       -4.89961950e+03,  4.75345202e+02, -2.20248758e+03, -2.48672762e+03,\n",
       "        2.29793891e+02, -3.72988206e+02, -2.44258908e+03,  5.18432785e+03,\n",
       "        8.36369526e+03, -5.74297705e+03, -5.57447780e+03,  3.23595756e+02,\n",
       "        1.13712159e+03,  1.34691408e+03,  3.75622878e+03,  2.43219493e+03,\n",
       "       -9.46473709e+02,  3.96242275e+02, -2.04048712e+03, -2.24088417e+03,\n",
       "        5.84210793e+03, -9.37052620e+03,  5.86656911e+03, -9.46873166e+02,\n",
       "        4.69210201e+03,  3.64894353e+03,  5.80188403e+02, -5.81842335e+03,\n",
       "       -1.16151301e+03,  6.34597868e+03, -9.09614546e+03,  5.83231728e+03,\n",
       "       -1.57709001e+03,  1.17041461e+04,  7.28808609e+03, -2.16620351e+03,\n",
       "       -1.17147633e+03, -3.48328991e+03, -1.45294369e+03,  3.44568783e+03,\n",
       "       -5.56261881e+01, -3.83982211e+03,  8.80828284e+03, -7.91544988e+03,\n",
       "       -1.21375695e+04,  1.99940411e+03, -6.73665989e+03,  1.65969555e+03,\n",
       "       -1.14662032e+03,  6.72512148e+02, -1.61240084e+03,  6.64386005e+03,\n",
       "        5.52841043e+01,  1.21356014e+03,  5.38156159e+02, -1.25472538e+03,\n",
       "        7.88829645e+02,  1.14722186e+04,  5.30838003e+03,  1.01720727e+04,\n",
       "        4.68544622e+03, -2.11311625e+02,  2.54427674e+02,  5.85978018e+03,\n",
       "        7.37708017e+02,  2.32178643e+03, -7.78734024e+01, -6.14939548e+02,\n",
       "        8.02185131e+03,  8.14764145e+03, -2.54821341e+02,  1.32590042e+04,\n",
       "       -1.52667819e+03, -2.33120679e+03,  1.97339870e+03,  6.60097311e+03,\n",
       "       -1.09656121e+03,  8.90600255e+03,  4.75467290e+02, -5.24007663e+03,\n",
       "       -5.23407604e+02, -2.50980997e+02, -3.45885513e+02, -2.47318688e+03,\n",
       "        3.68031462e+03,  3.20350887e+03, -2.44215125e+03,  6.68425417e+03,\n",
       "       -3.19238963e+03,  1.19492205e+03, -1.06850644e+04, -1.66905395e+03,\n",
       "       -2.33790403e+03,  2.08630053e+03, -1.17784015e+03,  2.89374295e+03,\n",
       "        2.08432305e+03,  3.35443983e+02])"
      ]
     },
     "execution_count": 14,
     "metadata": {},
     "output_type": "execute_result"
    }
   ],
   "source": [
    "pipe.named_steps['linearregression'].coef_"
   ]
  },
  {
   "cell_type": "code",
   "execution_count": 15,
   "metadata": {},
   "outputs": [],
   "source": [
    "X_test['SalePrice'] = pipe.predict(X_test)"
   ]
  },
  {
   "cell_type": "code",
   "execution_count": 16,
   "metadata": {},
   "outputs": [],
   "source": [
    "X_test[['SalePrice']].to_csv('submission/LinearRegression.csv') "
   ]
  },
  {
   "cell_type": "markdown",
   "metadata": {},
   "source": [
    "Overfitting by about 2000"
   ]
  },
  {
   "cell_type": "code",
   "execution_count": 17,
   "metadata": {},
   "outputs": [
    {
     "data": {
      "text/plain": [
       "24434.151484870603"
      ]
     },
     "execution_count": 17,
     "metadata": {},
     "output_type": "execute_result"
    }
   ],
   "source": [
    "# Kaggle RMSE 26406\n",
    "mean_squared_error(y, pipe.predict(X), squared=False)"
   ]
  },
  {
   "cell_type": "markdown",
   "metadata": {},
   "source": [
    "### Log Transformation"
   ]
  },
  {
   "cell_type": "code",
   "execution_count": 18,
   "metadata": {},
   "outputs": [],
   "source": [
    "log_lr_model = TransformedTargetRegressor(regressor = pipe, func = np.log, inverse_func = np.exp)"
   ]
  },
  {
   "cell_type": "code",
   "execution_count": 19,
   "metadata": {},
   "outputs": [
    {
     "name": "stdout",
     "output_type": "stream",
     "text": [
      "0.9046113036154945\n"
     ]
    }
   ],
   "source": [
    "run_model(log_lr_model, out = 'lr_logTransform') "
   ]
  },
  {
   "cell_type": "markdown",
   "metadata": {},
   "source": [
    "*Under*-fitting by about 700."
   ]
  },
  {
   "cell_type": "code",
   "execution_count": 20,
   "metadata": {},
   "outputs": [
    {
     "data": {
      "text/plain": [
       "24473.116589932702"
      ]
     },
     "execution_count": 20,
     "metadata": {},
     "output_type": "execute_result"
    }
   ],
   "source": [
    "mean_squared_error(y, log_lr_model.predict(X), squared = False)\n",
    "# Kaggle score 23733"
   ]
  },
  {
   "cell_type": "markdown",
   "metadata": {},
   "source": [
    "### Ridge Regression"
   ]
  },
  {
   "cell_type": "code",
   "execution_count": 19,
   "metadata": {},
   "outputs": [],
   "source": [
    "pipe_ridge = make_pipeline(\n",
    "    encoder,\n",
    "    Ridge()\n",
    ")"
   ]
  },
  {
   "cell_type": "code",
   "execution_count": 20,
   "metadata": {},
   "outputs": [],
   "source": [
    "params_ridge = {'ridge__alpha': np.logspace(-4, 4)}"
   ]
  },
  {
   "cell_type": "code",
   "execution_count": 21,
   "metadata": {},
   "outputs": [],
   "source": [
    "gs_ridge = GridSearchCV(pipe_ridge, params_ridge)"
   ]
  },
  {
   "cell_type": "code",
   "execution_count": 22,
   "metadata": {},
   "outputs": [],
   "source": [
    "# gs_ridge.fit(X, y)"
   ]
  },
  {
   "cell_type": "code",
   "execution_count": 23,
   "metadata": {},
   "outputs": [
    {
     "name": "stdout",
     "output_type": "stream",
     "text": [
      "0.9009375573453472\n"
     ]
    }
   ],
   "source": [
    "run_model(gs_ridge, 'ridge')"
   ]
  },
  {
   "cell_type": "code",
   "execution_count": 24,
   "metadata": {},
   "outputs": [
    {
     "data": {
      "text/html": [
       "<div>\n",
       "<style scoped>\n",
       "    .dataframe tbody tr th:only-of-type {\n",
       "        vertical-align: middle;\n",
       "    }\n",
       "\n",
       "    .dataframe tbody tr th {\n",
       "        vertical-align: top;\n",
       "    }\n",
       "\n",
       "    .dataframe thead th {\n",
       "        text-align: right;\n",
       "    }\n",
       "</style>\n",
       "<table border=\"1\" class=\"dataframe\">\n",
       "  <thead>\n",
       "    <tr style=\"text-align: right;\">\n",
       "      <th></th>\n",
       "      <th>mean_fit_time</th>\n",
       "      <th>std_fit_time</th>\n",
       "      <th>mean_score_time</th>\n",
       "      <th>std_score_time</th>\n",
       "      <th>param_ridge__alpha</th>\n",
       "      <th>params</th>\n",
       "      <th>split0_test_score</th>\n",
       "      <th>split1_test_score</th>\n",
       "      <th>split2_test_score</th>\n",
       "      <th>split3_test_score</th>\n",
       "      <th>split4_test_score</th>\n",
       "      <th>mean_test_score</th>\n",
       "      <th>std_test_score</th>\n",
       "      <th>rank_test_score</th>\n",
       "    </tr>\n",
       "  </thead>\n",
       "  <tbody>\n",
       "    <tr>\n",
       "      <th>27</th>\n",
       "      <td>0.067631</td>\n",
       "      <td>0.007110</td>\n",
       "      <td>0.019809</td>\n",
       "      <td>0.003664</td>\n",
       "      <td>2.559548</td>\n",
       "      <td>{'ridge__alpha': 2.559547922699533}</td>\n",
       "      <td>0.857799</td>\n",
       "      <td>0.889847</td>\n",
       "      <td>0.801152</td>\n",
       "      <td>0.886394</td>\n",
       "      <td>0.825558</td>\n",
       "      <td>0.852150</td>\n",
       "      <td>0.034449</td>\n",
       "      <td>8</td>\n",
       "    </tr>\n",
       "    <tr>\n",
       "      <th>28</th>\n",
       "      <td>0.057806</td>\n",
       "      <td>0.005189</td>\n",
       "      <td>0.017203</td>\n",
       "      <td>0.002715</td>\n",
       "      <td>3.727594</td>\n",
       "      <td>{'ridge__alpha': 3.727593720314938}</td>\n",
       "      <td>0.858362</td>\n",
       "      <td>0.890913</td>\n",
       "      <td>0.800064</td>\n",
       "      <td>0.888794</td>\n",
       "      <td>0.825344</td>\n",
       "      <td>0.852695</td>\n",
       "      <td>0.035536</td>\n",
       "      <td>7</td>\n",
       "    </tr>\n",
       "    <tr>\n",
       "      <th>29</th>\n",
       "      <td>0.060809</td>\n",
       "      <td>0.006241</td>\n",
       "      <td>0.015793</td>\n",
       "      <td>0.001715</td>\n",
       "      <td>5.428675</td>\n",
       "      <td>{'ridge__alpha': 5.428675439323859}</td>\n",
       "      <td>0.859272</td>\n",
       "      <td>0.892855</td>\n",
       "      <td>0.800483</td>\n",
       "      <td>0.890496</td>\n",
       "      <td>0.825061</td>\n",
       "      <td>0.853633</td>\n",
       "      <td>0.036250</td>\n",
       "      <td>5</td>\n",
       "    </tr>\n",
       "    <tr>\n",
       "      <th>30</th>\n",
       "      <td>0.055408</td>\n",
       "      <td>0.005464</td>\n",
       "      <td>0.017196</td>\n",
       "      <td>0.002047</td>\n",
       "      <td>7.906043</td>\n",
       "      <td>{'ridge__alpha': 7.9060432109076855}</td>\n",
       "      <td>0.859769</td>\n",
       "      <td>0.894095</td>\n",
       "      <td>0.798900</td>\n",
       "      <td>0.892218</td>\n",
       "      <td>0.824922</td>\n",
       "      <td>0.853981</td>\n",
       "      <td>0.037371</td>\n",
       "      <td>3</td>\n",
       "    </tr>\n",
       "    <tr>\n",
       "      <th>31</th>\n",
       "      <td>0.062108</td>\n",
       "      <td>0.009068</td>\n",
       "      <td>0.017868</td>\n",
       "      <td>0.001914</td>\n",
       "      <td>11.513954</td>\n",
       "      <td>{'ridge__alpha': 11.513953993264458}</td>\n",
       "      <td>0.860179</td>\n",
       "      <td>0.895294</td>\n",
       "      <td>0.796718</td>\n",
       "      <td>0.894202</td>\n",
       "      <td>0.825329</td>\n",
       "      <td>0.854344</td>\n",
       "      <td>0.038632</td>\n",
       "      <td>1</td>\n",
       "    </tr>\n",
       "    <tr>\n",
       "      <th>32</th>\n",
       "      <td>0.054380</td>\n",
       "      <td>0.002135</td>\n",
       "      <td>0.016198</td>\n",
       "      <td>0.002038</td>\n",
       "      <td>16.768329</td>\n",
       "      <td>{'ridge__alpha': 16.768329368110066}</td>\n",
       "      <td>0.859984</td>\n",
       "      <td>0.896103</td>\n",
       "      <td>0.795603</td>\n",
       "      <td>0.895506</td>\n",
       "      <td>0.824040</td>\n",
       "      <td>0.854247</td>\n",
       "      <td>0.039595</td>\n",
       "      <td>2</td>\n",
       "    </tr>\n",
       "    <tr>\n",
       "      <th>33</th>\n",
       "      <td>0.052201</td>\n",
       "      <td>0.004008</td>\n",
       "      <td>0.014606</td>\n",
       "      <td>0.001213</td>\n",
       "      <td>24.420531</td>\n",
       "      <td>{'ridge__alpha': 24.420530945486497}</td>\n",
       "      <td>0.859660</td>\n",
       "      <td>0.896943</td>\n",
       "      <td>0.793846</td>\n",
       "      <td>0.896817</td>\n",
       "      <td>0.821630</td>\n",
       "      <td>0.853779</td>\n",
       "      <td>0.040928</td>\n",
       "      <td>4</td>\n",
       "    </tr>\n",
       "    <tr>\n",
       "      <th>34</th>\n",
       "      <td>0.054004</td>\n",
       "      <td>0.003635</td>\n",
       "      <td>0.017600</td>\n",
       "      <td>0.002332</td>\n",
       "      <td>35.564803</td>\n",
       "      <td>{'ridge__alpha': 35.564803062231285}</td>\n",
       "      <td>0.858690</td>\n",
       "      <td>0.897146</td>\n",
       "      <td>0.792361</td>\n",
       "      <td>0.897264</td>\n",
       "      <td>0.820345</td>\n",
       "      <td>0.853161</td>\n",
       "      <td>0.041675</td>\n",
       "      <td>6</td>\n",
       "    </tr>\n",
       "    <tr>\n",
       "      <th>35</th>\n",
       "      <td>0.052403</td>\n",
       "      <td>0.001490</td>\n",
       "      <td>0.014794</td>\n",
       "      <td>0.001167</td>\n",
       "      <td>51.794747</td>\n",
       "      <td>{'ridge__alpha': 51.79474679231202}</td>\n",
       "      <td>0.857482</td>\n",
       "      <td>0.896391</td>\n",
       "      <td>0.790058</td>\n",
       "      <td>0.897252</td>\n",
       "      <td>0.817580</td>\n",
       "      <td>0.851752</td>\n",
       "      <td>0.042590</td>\n",
       "      <td>9</td>\n",
       "    </tr>\n",
       "  </tbody>\n",
       "</table>\n",
       "</div>"
      ],
      "text/plain": [
       "    mean_fit_time  std_fit_time  mean_score_time  std_score_time  \\\n",
       "27       0.067631      0.007110         0.019809        0.003664   \n",
       "28       0.057806      0.005189         0.017203        0.002715   \n",
       "29       0.060809      0.006241         0.015793        0.001715   \n",
       "30       0.055408      0.005464         0.017196        0.002047   \n",
       "31       0.062108      0.009068         0.017868        0.001914   \n",
       "32       0.054380      0.002135         0.016198        0.002038   \n",
       "33       0.052201      0.004008         0.014606        0.001213   \n",
       "34       0.054004      0.003635         0.017600        0.002332   \n",
       "35       0.052403      0.001490         0.014794        0.001167   \n",
       "\n",
       "   param_ridge__alpha                                params  \\\n",
       "27           2.559548   {'ridge__alpha': 2.559547922699533}   \n",
       "28           3.727594   {'ridge__alpha': 3.727593720314938}   \n",
       "29           5.428675   {'ridge__alpha': 5.428675439323859}   \n",
       "30           7.906043  {'ridge__alpha': 7.9060432109076855}   \n",
       "31          11.513954  {'ridge__alpha': 11.513953993264458}   \n",
       "32          16.768329  {'ridge__alpha': 16.768329368110066}   \n",
       "33          24.420531  {'ridge__alpha': 24.420530945486497}   \n",
       "34          35.564803  {'ridge__alpha': 35.564803062231285}   \n",
       "35          51.794747   {'ridge__alpha': 51.79474679231202}   \n",
       "\n",
       "    split0_test_score  split1_test_score  split2_test_score  \\\n",
       "27           0.857799           0.889847           0.801152   \n",
       "28           0.858362           0.890913           0.800064   \n",
       "29           0.859272           0.892855           0.800483   \n",
       "30           0.859769           0.894095           0.798900   \n",
       "31           0.860179           0.895294           0.796718   \n",
       "32           0.859984           0.896103           0.795603   \n",
       "33           0.859660           0.896943           0.793846   \n",
       "34           0.858690           0.897146           0.792361   \n",
       "35           0.857482           0.896391           0.790058   \n",
       "\n",
       "    split3_test_score  split4_test_score  mean_test_score  std_test_score  \\\n",
       "27           0.886394           0.825558         0.852150        0.034449   \n",
       "28           0.888794           0.825344         0.852695        0.035536   \n",
       "29           0.890496           0.825061         0.853633        0.036250   \n",
       "30           0.892218           0.824922         0.853981        0.037371   \n",
       "31           0.894202           0.825329         0.854344        0.038632   \n",
       "32           0.895506           0.824040         0.854247        0.039595   \n",
       "33           0.896817           0.821630         0.853779        0.040928   \n",
       "34           0.897264           0.820345         0.853161        0.041675   \n",
       "35           0.897252           0.817580         0.851752        0.042590   \n",
       "\n",
       "    rank_test_score  \n",
       "27                8  \n",
       "28                7  \n",
       "29                5  \n",
       "30                3  \n",
       "31                1  \n",
       "32                2  \n",
       "33                4  \n",
       "34                6  \n",
       "35                9  "
      ]
     },
     "execution_count": 24,
     "metadata": {},
     "output_type": "execute_result"
    }
   ],
   "source": [
    "pd.DataFrame(gs_ridge.cv_results_).query('rank_test_score < 10')"
   ]
  },
  {
   "cell_type": "code",
   "execution_count": 25,
   "metadata": {},
   "outputs": [],
   "source": [
    "# gs_ridge.best_estimator_"
   ]
  },
  {
   "cell_type": "markdown",
   "metadata": {},
   "source": [
    "Overfitting about 300"
   ]
  },
  {
   "cell_type": "code",
   "execution_count": 26,
   "metadata": {},
   "outputs": [
    {
     "data": {
      "text/plain": [
       "24939.936227172922"
      ]
     },
     "execution_count": 26,
     "metadata": {},
     "output_type": "execute_result"
    }
   ],
   "source": [
    "# Kaggle score 25364\n",
    "mean_squared_error(y, gs_ridge.predict(X), squared=False)"
   ]
  },
  {
   "cell_type": "markdown",
   "metadata": {},
   "source": [
    "#### Ridge w/ log transform"
   ]
  },
  {
   "cell_type": "code",
   "execution_count": 27,
   "metadata": {},
   "outputs": [],
   "source": [
    "log_ridge = TransformedTargetRegressor(regressor=gs_ridge, func=np.log, inverse_func=np.exp)"
   ]
  },
  {
   "cell_type": "code",
   "execution_count": 28,
   "metadata": {},
   "outputs": [
    {
     "name": "stdout",
     "output_type": "stream",
     "text": [
      "0.8865224435070076\n"
     ]
    }
   ],
   "source": [
    "run_model(log_ridge, 'ridge_logT')"
   ]
  },
  {
   "cell_type": "code",
   "execution_count": 29,
   "metadata": {},
   "outputs": [
    {
     "data": {
      "text/plain": [
       "Pipeline(steps=[('columntransformer',\n",
       "                 ColumnTransformer(remainder='passthrough',\n",
       "                                   transformers=[('onehotencoder-1',\n",
       "                                                  OneHotEncoder(handle_unknown='ignore'),\n",
       "                                                  <sklearn.compose._column_transformer.make_column_selector object at 0x0000024AF2759160>),\n",
       "                                                 ('onehotencoder-2',\n",
       "                                                  OneHotEncoder(),\n",
       "                                                  ['Mo Sold', 'Yr Sold',\n",
       "                                                   'MoYr Sold']),\n",
       "                                                 ('standardscaler',\n",
       "                                                  StandardScaler(),\n",
       "                                                  <sklearn.compose._column_transformer.make_column_selector object at 0x0000024AF2759D90>)],\n",
       "                                   verbose_feature_names_out=False)),\n",
       "                ('ridge', Ridge(alpha=35.564803062231285))])"
      ]
     },
     "execution_count": 29,
     "metadata": {},
     "output_type": "execute_result"
    }
   ],
   "source": [
    "log_ridge.regressor_.best_estimator_"
   ]
  },
  {
   "cell_type": "code",
   "execution_count": 30,
   "metadata": {},
   "outputs": [
    {
     "data": {
      "text/plain": [
       "26692.903116970483"
      ]
     },
     "execution_count": 30,
     "metadata": {},
     "output_type": "execute_result"
    }
   ],
   "source": [
    "mean_squared_error(y, log_ridge.predict(X), squared = False)"
   ]
  },
  {
   "cell_type": "markdown",
   "metadata": {},
   "source": [
    "### Feature squares"
   ]
  },
  {
   "cell_type": "code",
   "execution_count": 31,
   "metadata": {},
   "outputs": [],
   "source": [
    "X_num_cols = [c for c in X.columns if X.dtypes[c] != object and X[c].max() > 1]"
   ]
  },
  {
   "cell_type": "code",
   "execution_count": 32,
   "metadata": {},
   "outputs": [
    {
     "data": {
      "text/plain": [
       "34"
      ]
     },
     "execution_count": 32,
     "metadata": {},
     "output_type": "execute_result"
    }
   ],
   "source": [
    "len(X_num_cols)"
   ]
  },
  {
   "cell_type": "code",
   "execution_count": 33,
   "metadata": {},
   "outputs": [],
   "source": [
    "X_squared = X[X_num_cols]**2\n",
    "X_test_squared = X_test[X_num_cols]**2"
   ]
  },
  {
   "cell_type": "code",
   "execution_count": 34,
   "metadata": {},
   "outputs": [],
   "source": [
    "X_all = X.join(X_squared, rsuffix = '**2')\n",
    "X_test_all = X_test.join(X_test_squared, rsuffix = '**2')"
   ]
  },
  {
   "cell_type": "code",
   "execution_count": 35,
   "metadata": {},
   "outputs": [
    {
     "data": {
      "text/html": [
       "<div>\n",
       "<style scoped>\n",
       "    .dataframe tbody tr th:only-of-type {\n",
       "        vertical-align: middle;\n",
       "    }\n",
       "\n",
       "    .dataframe tbody tr th {\n",
       "        vertical-align: top;\n",
       "    }\n",
       "\n",
       "    .dataframe thead th {\n",
       "        text-align: right;\n",
       "    }\n",
       "</style>\n",
       "<table border=\"1\" class=\"dataframe\">\n",
       "  <thead>\n",
       "    <tr style=\"text-align: right;\">\n",
       "      <th></th>\n",
       "      <th>MS Zoning</th>\n",
       "      <th>Lot Frontage</th>\n",
       "      <th>Lot Area</th>\n",
       "      <th>Street</th>\n",
       "      <th>Alley</th>\n",
       "      <th>Lot Shape</th>\n",
       "      <th>Land Contour</th>\n",
       "      <th>Utilities</th>\n",
       "      <th>Lot Config</th>\n",
       "      <th>Land Slope</th>\n",
       "      <th>...</th>\n",
       "      <th>Fence**2</th>\n",
       "      <th>Misc Val**2</th>\n",
       "      <th>Mo Sold**2</th>\n",
       "      <th>Yr Sold**2</th>\n",
       "      <th>MoYr Sold**2</th>\n",
       "      <th>Lot Ratio**2</th>\n",
       "      <th>Sum Bath**2</th>\n",
       "      <th>Garage Ratio**2</th>\n",
       "      <th>Porch SF**2</th>\n",
       "      <th>Last Remodel**2</th>\n",
       "    </tr>\n",
       "    <tr>\n",
       "      <th>Id</th>\n",
       "      <th></th>\n",
       "      <th></th>\n",
       "      <th></th>\n",
       "      <th></th>\n",
       "      <th></th>\n",
       "      <th></th>\n",
       "      <th></th>\n",
       "      <th></th>\n",
       "      <th></th>\n",
       "      <th></th>\n",
       "      <th></th>\n",
       "      <th></th>\n",
       "      <th></th>\n",
       "      <th></th>\n",
       "      <th></th>\n",
       "      <th></th>\n",
       "      <th></th>\n",
       "      <th></th>\n",
       "      <th></th>\n",
       "      <th></th>\n",
       "      <th></th>\n",
       "    </tr>\n",
       "  </thead>\n",
       "  <tbody>\n",
       "    <tr>\n",
       "      <th>2658</th>\n",
       "      <td>RM</td>\n",
       "      <td>69.0000</td>\n",
       "      <td>9142</td>\n",
       "      <td>1</td>\n",
       "      <td>Grvl</td>\n",
       "      <td>0</td>\n",
       "      <td>Lvl</td>\n",
       "      <td>AllPub</td>\n",
       "      <td>Inside</td>\n",
       "      <td>0</td>\n",
       "      <td>...</td>\n",
       "      <td>0</td>\n",
       "      <td>0</td>\n",
       "      <td>16</td>\n",
       "      <td>4024036</td>\n",
       "      <td>4.025373e+06</td>\n",
       "      <td>3.687110</td>\n",
       "      <td>4.00</td>\n",
       "      <td>193600.0</td>\n",
       "      <td>29584</td>\n",
       "      <td>3136</td>\n",
       "    </tr>\n",
       "    <tr>\n",
       "      <th>2718</th>\n",
       "      <td>RL</td>\n",
       "      <td>69.0552</td>\n",
       "      <td>9662</td>\n",
       "      <td>1</td>\n",
       "      <td>None</td>\n",
       "      <td>1</td>\n",
       "      <td>Lvl</td>\n",
       "      <td>AllPub</td>\n",
       "      <td>Inside</td>\n",
       "      <td>0</td>\n",
       "      <td>...</td>\n",
       "      <td>0</td>\n",
       "      <td>0</td>\n",
       "      <td>64</td>\n",
       "      <td>4024036</td>\n",
       "      <td>4.026711e+06</td>\n",
       "      <td>5.331275</td>\n",
       "      <td>4.00</td>\n",
       "      <td>84100.0</td>\n",
       "      <td>28900</td>\n",
       "      <td>841</td>\n",
       "    </tr>\n",
       "    <tr>\n",
       "      <th>2414</th>\n",
       "      <td>RL</td>\n",
       "      <td>58.0000</td>\n",
       "      <td>17104</td>\n",
       "      <td>1</td>\n",
       "      <td>None</td>\n",
       "      <td>1</td>\n",
       "      <td>Lvl</td>\n",
       "      <td>AllPub</td>\n",
       "      <td>Inside</td>\n",
       "      <td>0</td>\n",
       "      <td>...</td>\n",
       "      <td>0</td>\n",
       "      <td>0</td>\n",
       "      <td>81</td>\n",
       "      <td>4024036</td>\n",
       "      <td>4.027046e+06</td>\n",
       "      <td>25.851360</td>\n",
       "      <td>12.25</td>\n",
       "      <td>45369.0</td>\n",
       "      <td>15376</td>\n",
       "      <td>0</td>\n",
       "    </tr>\n",
       "    <tr>\n",
       "      <th>1989</th>\n",
       "      <td>RM</td>\n",
       "      <td>60.0000</td>\n",
       "      <td>8520</td>\n",
       "      <td>1</td>\n",
       "      <td>None</td>\n",
       "      <td>0</td>\n",
       "      <td>Lvl</td>\n",
       "      <td>AllPub</td>\n",
       "      <td>Inside</td>\n",
       "      <td>0</td>\n",
       "      <td>...</td>\n",
       "      <td>0</td>\n",
       "      <td>0</td>\n",
       "      <td>49</td>\n",
       "      <td>4028049</td>\n",
       "      <td>4.030391e+06</td>\n",
       "      <td>5.601111</td>\n",
       "      <td>1.00</td>\n",
       "      <td>57600.0</td>\n",
       "      <td>33856</td>\n",
       "      <td>1</td>\n",
       "    </tr>\n",
       "    <tr>\n",
       "      <th>625</th>\n",
       "      <td>RL</td>\n",
       "      <td>69.0552</td>\n",
       "      <td>9500</td>\n",
       "      <td>1</td>\n",
       "      <td>None</td>\n",
       "      <td>1</td>\n",
       "      <td>Lvl</td>\n",
       "      <td>AllPub</td>\n",
       "      <td>Inside</td>\n",
       "      <td>0</td>\n",
       "      <td>...</td>\n",
       "      <td>0</td>\n",
       "      <td>0</td>\n",
       "      <td>49</td>\n",
       "      <td>4036081</td>\n",
       "      <td>4.038425e+06</td>\n",
       "      <td>5.331275</td>\n",
       "      <td>6.25</td>\n",
       "      <td>66049.0</td>\n",
       "      <td>68121</td>\n",
       "      <td>2116</td>\n",
       "    </tr>\n",
       "  </tbody>\n",
       "</table>\n",
       "<p>5 rows × 98 columns</p>\n",
       "</div>"
      ],
      "text/plain": [
       "     MS Zoning  Lot Frontage  Lot Area  Street Alley  Lot Shape Land Contour  \\\n",
       "Id                                                                             \n",
       "2658        RM       69.0000      9142       1  Grvl          0          Lvl   \n",
       "2718        RL       69.0552      9662       1  None          1          Lvl   \n",
       "2414        RL       58.0000     17104       1  None          1          Lvl   \n",
       "1989        RM       60.0000      8520       1  None          0          Lvl   \n",
       "625         RL       69.0552      9500       1  None          1          Lvl   \n",
       "\n",
       "     Utilities Lot Config  Land Slope  ... Fence**2 Misc Val**2 Mo Sold**2  \\\n",
       "Id                                     ...                                   \n",
       "2658    AllPub     Inside           0  ...        0           0         16   \n",
       "2718    AllPub     Inside           0  ...        0           0         64   \n",
       "2414    AllPub     Inside           0  ...        0           0         81   \n",
       "1989    AllPub     Inside           0  ...        0           0         49   \n",
       "625     AllPub     Inside           0  ...        0           0         49   \n",
       "\n",
       "      Yr Sold**2  MoYr Sold**2  Lot Ratio**2 Sum Bath**2 Garage Ratio**2  \\\n",
       "Id                                                                         \n",
       "2658     4024036  4.025373e+06      3.687110        4.00        193600.0   \n",
       "2718     4024036  4.026711e+06      5.331275        4.00         84100.0   \n",
       "2414     4024036  4.027046e+06     25.851360       12.25         45369.0   \n",
       "1989     4028049  4.030391e+06      5.601111        1.00         57600.0   \n",
       "625      4036081  4.038425e+06      5.331275        6.25         66049.0   \n",
       "\n",
       "      Porch SF**2  Last Remodel**2  \n",
       "Id                                  \n",
       "2658        29584             3136  \n",
       "2718        28900              841  \n",
       "2414        15376                0  \n",
       "1989        33856                1  \n",
       "625         68121             2116  \n",
       "\n",
       "[5 rows x 98 columns]"
      ]
     },
     "execution_count": 35,
     "metadata": {},
     "output_type": "execute_result"
    }
   ],
   "source": [
    "X_test_all.head()"
   ]
  },
  {
   "cell_type": "code",
   "execution_count": 36,
   "metadata": {},
   "outputs": [],
   "source": [
    "pipe_squares_ridge = make_pipeline(\n",
    "    encoder,\n",
    "    Ridge()\n",
    ")"
   ]
  },
  {
   "cell_type": "code",
   "execution_count": 37,
   "metadata": {},
   "outputs": [],
   "source": [
    "gs_squares = GridSearchCV(pipe_squares_ridge, params_ridge)"
   ]
  },
  {
   "cell_type": "code",
   "execution_count": 38,
   "metadata": {},
   "outputs": [
    {
     "name": "stdout",
     "output_type": "stream",
     "text": [
      "0.927189921490802\n"
     ]
    }
   ],
   "source": [
    "run_model(gs_squares, 'squares_ridge', X = X_all, X_test = X_test_all)"
   ]
  },
  {
   "cell_type": "code",
   "execution_count": 39,
   "metadata": {},
   "outputs": [
    {
     "data": {
      "text/plain": [
       "Pipeline(steps=[('columntransformer',\n",
       "                 ColumnTransformer(remainder='passthrough',\n",
       "                                   transformers=[('onehotencoder-1',\n",
       "                                                  OneHotEncoder(handle_unknown='ignore'),\n",
       "                                                  <sklearn.compose._column_transformer.make_column_selector object at 0x0000024AF278F1C0>),\n",
       "                                                 ('onehotencoder-2',\n",
       "                                                  OneHotEncoder(),\n",
       "                                                  ['Mo Sold', 'Yr Sold',\n",
       "                                                   'MoYr Sold']),\n",
       "                                                 ('standardscaler',\n",
       "                                                  StandardScaler(),\n",
       "                                                  <sklearn.compose._column_transformer.make_column_selector object at 0x0000024AF278F910>)],\n",
       "                                   verbose_feature_names_out=False)),\n",
       "                ('ridge', Ridge(alpha=16.768329368110066))])"
      ]
     },
     "execution_count": 39,
     "metadata": {},
     "output_type": "execute_result"
    }
   ],
   "source": [
    "gs_squares.best_estimator_"
   ]
  },
  {
   "cell_type": "markdown",
   "metadata": {},
   "source": [
    "About 3500 overfitting."
   ]
  },
  {
   "cell_type": "code",
   "execution_count": 40,
   "metadata": {},
   "outputs": [
    {
     "data": {
      "text/plain": [
       "21381.421354297145"
      ]
     },
     "execution_count": 40,
     "metadata": {},
     "output_type": "execute_result"
    }
   ],
   "source": [
    "# Kaggle score 24899\n",
    "mean_squared_error(y, gs_squares.predict(X_all), squared = False)"
   ]
  },
  {
   "cell_type": "code",
   "execution_count": 41,
   "metadata": {},
   "outputs": [
    {
     "data": {
      "text/plain": [
       "Pipeline(steps=[('columntransformer',\n",
       "                 ColumnTransformer(remainder='passthrough',\n",
       "                                   transformers=[('onehotencoder-1',\n",
       "                                                  OneHotEncoder(handle_unknown='ignore'),\n",
       "                                                  <sklearn.compose._column_transformer.make_column_selector object at 0x0000024AF278F1C0>),\n",
       "                                                 ('onehotencoder-2',\n",
       "                                                  OneHotEncoder(),\n",
       "                                                  ['Mo Sold', 'Yr Sold',\n",
       "                                                   'MoYr Sold']),\n",
       "                                                 ('standardscaler',\n",
       "                                                  StandardScaler(),\n",
       "                                                  <sklearn.compose._column_transformer.make_column_selector object at 0x0000024AF278F910>)],\n",
       "                                   verbose_feature_names_out=False)),\n",
       "                ('ridge', Ridge(alpha=16.768329368110066))])"
      ]
     },
     "execution_count": 41,
     "metadata": {},
     "output_type": "execute_result"
    }
   ],
   "source": [
    "gs_squares.best_estimator_"
   ]
  },
  {
   "cell_type": "markdown",
   "metadata": {},
   "source": [
    "#### Squares ridge + log"
   ]
  },
  {
   "cell_type": "code",
   "execution_count": 42,
   "metadata": {},
   "outputs": [],
   "source": [
    "squares_ridge_log = TransformedTargetRegressor(\n",
    "    regressor = gs_squares, func = np.log, inverse_func = np.exp)"
   ]
  },
  {
   "cell_type": "code",
   "execution_count": 43,
   "metadata": {},
   "outputs": [
    {
     "name": "stdout",
     "output_type": "stream",
     "text": [
      "0.9437144528539232\n"
     ]
    }
   ],
   "source": [
    "run_model(squares_ridge_log, 'squares_ridge_log', X_all, X_test_all)"
   ]
  },
  {
   "cell_type": "code",
   "execution_count": 44,
   "metadata": {},
   "outputs": [
    {
     "data": {
      "text/plain": [
       "Pipeline(steps=[('columntransformer',\n",
       "                 ColumnTransformer(remainder='passthrough',\n",
       "                                   transformers=[('onehotencoder-1',\n",
       "                                                  OneHotEncoder(handle_unknown='ignore'),\n",
       "                                                  <sklearn.compose._column_transformer.make_column_selector object at 0x0000024AF273DB80>),\n",
       "                                                 ('onehotencoder-2',\n",
       "                                                  OneHotEncoder(),\n",
       "                                                  ['Mo Sold', 'Yr Sold',\n",
       "                                                   'MoYr Sold']),\n",
       "                                                 ('standardscaler',\n",
       "                                                  StandardScaler(),\n",
       "                                                  <sklearn.compose._column_transformer.make_column_selector object at 0x0000024AF279DC70>)],\n",
       "                                   verbose_feature_names_out=False)),\n",
       "                ('ridge', Ridge(alpha=7.9060432109076855))])"
      ]
     },
     "execution_count": 44,
     "metadata": {},
     "output_type": "execute_result"
    }
   ],
   "source": [
    "squares_ridge_log.regressor_.best_estimator_"
   ]
  },
  {
   "cell_type": "markdown",
   "metadata": {},
   "source": [
    "Overfitting about 2800"
   ]
  },
  {
   "cell_type": "code",
   "execution_count": 45,
   "metadata": {},
   "outputs": [
    {
     "data": {
      "text/plain": [
       "18799.195680701418"
      ]
     },
     "execution_count": 45,
     "metadata": {},
     "output_type": "execute_result"
    }
   ],
   "source": [
    "# Kaggle score 21616\n",
    "mean_squared_error(y, squares_ridge_log.predict(X_all), squared = False)"
   ]
  },
  {
   "cell_type": "code",
   "execution_count": 46,
   "metadata": {},
   "outputs": [],
   "source": [
    "residuals_ridge = squares_ridge_log.predict(X_all) - y"
   ]
  },
  {
   "cell_type": "code",
   "execution_count": 56,
   "metadata": {},
   "outputs": [],
   "source": [
    "preds_ridge = squares_ridge_log.predict(X_test_all)"
   ]
  },
  {
   "cell_type": "code",
   "execution_count": 48,
   "metadata": {},
   "outputs": [
    {
     "data": {
      "text/plain": [
       "18799.195680701418"
      ]
     },
     "execution_count": 48,
     "metadata": {},
     "output_type": "execute_result"
    }
   ],
   "source": [
    "np.sqrt(np.sum(residuals_ridge**2)/len(residuals_ridge))"
   ]
  },
  {
   "cell_type": "code",
   "execution_count": 117,
   "metadata": {},
   "outputs": [],
   "source": [
    "residuals_ridge.to_csv('datasets/ridge_residuals.csv')"
   ]
  },
  {
   "cell_type": "markdown",
   "metadata": {},
   "source": [
    "### Elastic net"
   ]
  },
  {
   "cell_type": "code",
   "execution_count": 48,
   "metadata": {},
   "outputs": [],
   "source": [
    "pipe_elastic_net = make_pipeline(\n",
    "    encoder,\n",
    "    ElasticNet(max_iter=30_000, selection='random')\n",
    ")"
   ]
  },
  {
   "cell_type": "code",
   "execution_count": 49,
   "metadata": {},
   "outputs": [],
   "source": [
    "params_elastic_net = {\n",
    "    'elasticnet__alpha': np.logspace(-3.5, 1), # convergence is slower at low alpha values\n",
    "    'elasticnet__l1_ratio': np.linspace(0.05, 0.5, 10)\n",
    "}"
   ]
  },
  {
   "cell_type": "code",
   "execution_count": 50,
   "metadata": {},
   "outputs": [],
   "source": [
    "gs_elastic_net = GridSearchCV(pipe_elastic_net, params_elastic_net, n_jobs = 1)"
   ]
  },
  {
   "cell_type": "code",
   "execution_count": 51,
   "metadata": {},
   "outputs": [],
   "source": [
    "squares_elastic_net_log = TransformedTargetRegressor(\n",
    "    regressor = gs_elastic_net, func = np.log, inverse_func = np.exp\n",
    ")"
   ]
  },
  {
   "cell_type": "code",
   "execution_count": 52,
   "metadata": {},
   "outputs": [
    {
     "name": "stdout",
     "output_type": "stream",
     "text": [
      "0.9425296448484848\n"
     ]
    }
   ],
   "source": [
    "run_model(squares_elastic_net_log, 'squares_elastic_net_log', X_all, X_test_all)"
   ]
  },
  {
   "cell_type": "markdown",
   "metadata": {},
   "source": [
    "Elastic net is converging to ridge (low l1_ratio) and linear regression (low alpha)"
   ]
  },
  {
   "cell_type": "code",
   "execution_count": 78,
   "metadata": {},
   "outputs": [
    {
     "data": {
      "text/plain": [
       "Pipeline(steps=[('columntransformer',\n",
       "                 ColumnTransformer(remainder='passthrough',\n",
       "                                   transformers=[('onehotencoder-1',\n",
       "                                                  OneHotEncoder(handle_unknown='ignore'),\n",
       "                                                  <sklearn.compose._column_transformer.make_column_selector object at 0x000002552E85C5E0>),\n",
       "                                                 ('onehotencoder-2',\n",
       "                                                  OneHotEncoder(),\n",
       "                                                  ['Mo Sold', 'Yr Sold',\n",
       "                                                   'MoYr Sold']),\n",
       "                                                 ('standardscaler',\n",
       "                                                  StandardScaler(),\n",
       "                                                  <sklearn.compose._column_transformer.make_column_selector object at 0x000002552E85C280>)],\n",
       "                                   verbose_feature_names_out=False)),\n",
       "                ('elasticnet',\n",
       "                 ElasticNet(alpha=0.0011246578221198195, l1_ratio=0.2,\n",
       "                            max_iter=30000, selection='random'))])"
      ]
     },
     "execution_count": 78,
     "metadata": {},
     "output_type": "execute_result"
    }
   ],
   "source": [
    "squares_elastic_net_log.regressor_.best_estimator_"
   ]
  },
  {
   "cell_type": "markdown",
   "metadata": {},
   "source": [
    "Overfitting about 2200."
   ]
  },
  {
   "cell_type": "code",
   "execution_count": 86,
   "metadata": {},
   "outputs": [
    {
     "data": {
      "text/plain": [
       "18996.026329475382"
      ]
     },
     "execution_count": 86,
     "metadata": {},
     "output_type": "execute_result"
    }
   ],
   "source": [
    "# Kaggle score 21213\n",
    "mean_squared_error(y, squares_elastic_net_log.predict(X_all), squared = False)"
   ]
  },
  {
   "cell_type": "code",
   "execution_count": 85,
   "metadata": {},
   "outputs": [],
   "source": [
    "pipe_enet_cv_result = make_pipeline(\n",
    "    encoder,\n",
    "    ElasticNet(alpha = 0.001125, l1_ratio= 0.2, max_iter = 30000, selection = 'random')\n",
    ")"
   ]
  },
  {
   "cell_type": "code",
   "execution_count": 86,
   "metadata": {},
   "outputs": [],
   "source": [
    "enet_cv_result = TransformedTargetRegressor(pipe_enet_cv_result, func = np.log, inverse_func = np.exp)"
   ]
  },
  {
   "cell_type": "code",
   "execution_count": 87,
   "metadata": {},
   "outputs": [
    {
     "data": {
      "text/plain": [
       "TransformedTargetRegressor(func=<ufunc 'log'>, inverse_func=<ufunc 'exp'>,\n",
       "                           regressor=Pipeline(steps=[('columntransformer',\n",
       "                                                      ColumnTransformer(remainder='passthrough',\n",
       "                                                                        transformers=[('onehotencoder-1',\n",
       "                                                                                       OneHotEncoder(handle_unknown='ignore'),\n",
       "                                                                                       <sklearn.compose._column_transformer.make_column_selector object at 0x0000024AF2581970>),\n",
       "                                                                                      ('onehotencoder-2',\n",
       "                                                                                       OneHotEncoder(),\n",
       "                                                                                       ['Mo '\n",
       "                                                                                        'Sold',\n",
       "                                                                                        'Yr '\n",
       "                                                                                        'Sold',\n",
       "                                                                                        'MoYr '\n",
       "                                                                                        'Sold']),\n",
       "                                                                                      ('standardscaler',\n",
       "                                                                                       StandardScaler(),\n",
       "                                                                                       <sklearn.compose._column_transformer.make_column_selector object at 0x0000024AF2581550>)],\n",
       "                                                                        verbose_feature_names_out=False)),\n",
       "                                                     ('elasticnet',\n",
       "                                                      ElasticNet(alpha=0.001125,\n",
       "                                                                 l1_ratio=0.2,\n",
       "                                                                 max_iter=30000,\n",
       "                                                                 selection='random'))]))"
      ]
     },
     "execution_count": 87,
     "metadata": {},
     "output_type": "execute_result"
    }
   ],
   "source": [
    "enet_cv_result.fit(X_all, y)"
   ]
  },
  {
   "cell_type": "code",
   "execution_count": 88,
   "metadata": {},
   "outputs": [],
   "source": [
    "preds_enet = enet_cv_result.predict(X_test_all)"
   ]
  },
  {
   "cell_type": "code",
   "execution_count": 89,
   "metadata": {},
   "outputs": [
    {
     "data": {
      "text/plain": [
       "array([126644.46891392, 158600.41111229, 211113.02237568, 106687.24338309,\n",
       "       177057.21189063])"
      ]
     },
     "execution_count": 89,
     "metadata": {},
     "output_type": "execute_result"
    }
   ],
   "source": [
    "preds_enet[:5]"
   ]
  },
  {
   "cell_type": "code",
   "execution_count": 55,
   "metadata": {},
   "outputs": [
    {
     "data": {
      "text/plain": [
       "104"
      ]
     },
     "execution_count": 55,
     "metadata": {},
     "output_type": "execute_result"
    }
   ],
   "source": [
    "(squares_elastic_net_log.regressor_.best_estimator_.named_steps['elasticnet'].coef_ == 0).sum()"
   ]
  },
  {
   "cell_type": "code",
   "execution_count": 56,
   "metadata": {},
   "outputs": [
    {
     "data": {
      "text/plain": [
       "156"
      ]
     },
     "execution_count": 56,
     "metadata": {},
     "output_type": "execute_result"
    }
   ],
   "source": [
    "(squares_elastic_net_log.regressor_.best_estimator_.named_steps['elasticnet'].coef_ != 0).sum()"
   ]
  },
  {
   "cell_type": "code",
   "execution_count": 70,
   "metadata": {},
   "outputs": [],
   "source": [
    "cv_results = pd.DataFrame(squares_elastic_net_log.regressor_.cv_results_)"
   ]
  },
  {
   "cell_type": "code",
   "execution_count": 74,
   "metadata": {},
   "outputs": [
    {
     "data": {
      "text/plain": [
       "Index(['mean_fit_time', 'std_fit_time', 'mean_score_time', 'std_score_time',\n",
       "       'param_elasticnet__alpha', 'param_elasticnet__l1_ratio', 'params',\n",
       "       'split0_test_score', 'split1_test_score', 'split2_test_score',\n",
       "       'split3_test_score', 'split4_test_score', 'mean_test_score',\n",
       "       'std_test_score', 'rank_test_score'],\n",
       "      dtype='object')"
      ]
     },
     "execution_count": 74,
     "metadata": {},
     "output_type": "execute_result"
    }
   ],
   "source": [
    "cv_results.columns"
   ]
  },
  {
   "cell_type": "code",
   "execution_count": 76,
   "metadata": {},
   "outputs": [
    {
     "data": {
      "text/html": [
       "<div>\n",
       "<style scoped>\n",
       "    .dataframe tbody tr th:only-of-type {\n",
       "        vertical-align: middle;\n",
       "    }\n",
       "\n",
       "    .dataframe tbody tr th {\n",
       "        vertical-align: top;\n",
       "    }\n",
       "\n",
       "    .dataframe thead th {\n",
       "        text-align: right;\n",
       "    }\n",
       "</style>\n",
       "<table border=\"1\" class=\"dataframe\">\n",
       "  <thead>\n",
       "    <tr style=\"text-align: right;\">\n",
       "      <th></th>\n",
       "      <th>mean_fit_time</th>\n",
       "      <th>std_fit_time</th>\n",
       "      <th>mean_score_time</th>\n",
       "      <th>std_score_time</th>\n",
       "      <th>split0_test_score</th>\n",
       "      <th>split1_test_score</th>\n",
       "      <th>split2_test_score</th>\n",
       "      <th>split3_test_score</th>\n",
       "      <th>split4_test_score</th>\n",
       "      <th>mean_test_score</th>\n",
       "      <th>std_test_score</th>\n",
       "      <th>rank_test_score</th>\n",
       "    </tr>\n",
       "    <tr>\n",
       "      <th>param_elasticnet__alpha</th>\n",
       "      <th></th>\n",
       "      <th></th>\n",
       "      <th></th>\n",
       "      <th></th>\n",
       "      <th></th>\n",
       "      <th></th>\n",
       "      <th></th>\n",
       "      <th></th>\n",
       "      <th></th>\n",
       "      <th></th>\n",
       "      <th></th>\n",
       "      <th></th>\n",
       "    </tr>\n",
       "  </thead>\n",
       "  <tbody>\n",
       "    <tr>\n",
       "      <th>0.000316</th>\n",
       "      <td>5.510621</td>\n",
       "      <td>4.550484</td>\n",
       "      <td>0.029618</td>\n",
       "      <td>0.024244</td>\n",
       "      <td>0.886648</td>\n",
       "      <td>0.901520</td>\n",
       "      <td>0.922178</td>\n",
       "      <td>0.877815</td>\n",
       "      <td>0.928041</td>\n",
       "      <td>0.903241</td>\n",
       "      <td>0.019561</td>\n",
       "      <td>71.6</td>\n",
       "    </tr>\n",
       "    <tr>\n",
       "      <th>0.000391</th>\n",
       "      <td>3.481743</td>\n",
       "      <td>2.654596</td>\n",
       "      <td>0.028921</td>\n",
       "      <td>0.030004</td>\n",
       "      <td>0.886401</td>\n",
       "      <td>0.903255</td>\n",
       "      <td>0.922228</td>\n",
       "      <td>0.878178</td>\n",
       "      <td>0.928425</td>\n",
       "      <td>0.903697</td>\n",
       "      <td>0.019613</td>\n",
       "      <td>60.3</td>\n",
       "    </tr>\n",
       "    <tr>\n",
       "      <th>0.000483</th>\n",
       "      <td>2.880677</td>\n",
       "      <td>2.005138</td>\n",
       "      <td>0.022241</td>\n",
       "      <td>0.015799</td>\n",
       "      <td>0.885966</td>\n",
       "      <td>0.904985</td>\n",
       "      <td>0.922084</td>\n",
       "      <td>0.878602</td>\n",
       "      <td>0.928751</td>\n",
       "      <td>0.904078</td>\n",
       "      <td>0.019657</td>\n",
       "      <td>48.7</td>\n",
       "    </tr>\n",
       "    <tr>\n",
       "      <th>0.000596</th>\n",
       "      <td>2.636862</td>\n",
       "      <td>2.460317</td>\n",
       "      <td>0.024718</td>\n",
       "      <td>0.016558</td>\n",
       "      <td>0.885391</td>\n",
       "      <td>0.906689</td>\n",
       "      <td>0.921720</td>\n",
       "      <td>0.879073</td>\n",
       "      <td>0.928994</td>\n",
       "      <td>0.904374</td>\n",
       "      <td>0.019684</td>\n",
       "      <td>38.7</td>\n",
       "    </tr>\n",
       "    <tr>\n",
       "      <th>0.000737</th>\n",
       "      <td>1.823921</td>\n",
       "      <td>1.254666</td>\n",
       "      <td>0.030065</td>\n",
       "      <td>0.023895</td>\n",
       "      <td>0.884730</td>\n",
       "      <td>0.908297</td>\n",
       "      <td>0.921014</td>\n",
       "      <td>0.879588</td>\n",
       "      <td>0.929110</td>\n",
       "      <td>0.904548</td>\n",
       "      <td>0.019653</td>\n",
       "      <td>35.4</td>\n",
       "    </tr>\n",
       "    <tr>\n",
       "      <th>0.000910</th>\n",
       "      <td>1.740020</td>\n",
       "      <td>1.506104</td>\n",
       "      <td>0.032353</td>\n",
       "      <td>0.032187</td>\n",
       "      <td>0.883933</td>\n",
       "      <td>0.909559</td>\n",
       "      <td>0.919817</td>\n",
       "      <td>0.880073</td>\n",
       "      <td>0.929054</td>\n",
       "      <td>0.904487</td>\n",
       "      <td>0.019555</td>\n",
       "      <td>39.2</td>\n",
       "    </tr>\n",
       "    <tr>\n",
       "      <th>0.001125</th>\n",
       "      <td>1.239133</td>\n",
       "      <td>0.876627</td>\n",
       "      <td>0.024506</td>\n",
       "      <td>0.018942</td>\n",
       "      <td>0.882899</td>\n",
       "      <td>0.910456</td>\n",
       "      <td>0.918016</td>\n",
       "      <td>0.880455</td>\n",
       "      <td>0.928778</td>\n",
       "      <td>0.904121</td>\n",
       "      <td>0.019410</td>\n",
       "      <td>48.0</td>\n",
       "    </tr>\n",
       "    <tr>\n",
       "      <th>0.001389</th>\n",
       "      <td>1.291976</td>\n",
       "      <td>1.072082</td>\n",
       "      <td>0.035616</td>\n",
       "      <td>0.024564</td>\n",
       "      <td>0.881641</td>\n",
       "      <td>0.911081</td>\n",
       "      <td>0.915528</td>\n",
       "      <td>0.880681</td>\n",
       "      <td>0.928110</td>\n",
       "      <td>0.903408</td>\n",
       "      <td>0.019208</td>\n",
       "      <td>58.9</td>\n",
       "    </tr>\n",
       "    <tr>\n",
       "      <th>0.001717</th>\n",
       "      <td>0.970566</td>\n",
       "      <td>0.696066</td>\n",
       "      <td>0.027626</td>\n",
       "      <td>0.019669</td>\n",
       "      <td>0.880277</td>\n",
       "      <td>0.911951</td>\n",
       "      <td>0.912148</td>\n",
       "      <td>0.880750</td>\n",
       "      <td>0.926938</td>\n",
       "      <td>0.902413</td>\n",
       "      <td>0.018985</td>\n",
       "      <td>72.2</td>\n",
       "    </tr>\n",
       "    <tr>\n",
       "      <th>0.002121</th>\n",
       "      <td>0.614406</td>\n",
       "      <td>0.229895</td>\n",
       "      <td>0.023532</td>\n",
       "      <td>0.011071</td>\n",
       "      <td>0.878765</td>\n",
       "      <td>0.912898</td>\n",
       "      <td>0.907702</td>\n",
       "      <td>0.880619</td>\n",
       "      <td>0.925166</td>\n",
       "      <td>0.901030</td>\n",
       "      <td>0.018807</td>\n",
       "      <td>85.8</td>\n",
       "    </tr>\n",
       "    <tr>\n",
       "      <th>0.002620</th>\n",
       "      <td>0.541339</td>\n",
       "      <td>0.261624</td>\n",
       "      <td>0.025531</td>\n",
       "      <td>0.012134</td>\n",
       "      <td>0.877106</td>\n",
       "      <td>0.913911</td>\n",
       "      <td>0.901565</td>\n",
       "      <td>0.880186</td>\n",
       "      <td>0.922898</td>\n",
       "      <td>0.899133</td>\n",
       "      <td>0.018898</td>\n",
       "      <td>98.1</td>\n",
       "    </tr>\n",
       "    <tr>\n",
       "      <th>0.003237</th>\n",
       "      <td>0.524111</td>\n",
       "      <td>0.156219</td>\n",
       "      <td>0.026384</td>\n",
       "      <td>0.010882</td>\n",
       "      <td>0.875242</td>\n",
       "      <td>0.914693</td>\n",
       "      <td>0.894038</td>\n",
       "      <td>0.879600</td>\n",
       "      <td>0.920149</td>\n",
       "      <td>0.896745</td>\n",
       "      <td>0.019322</td>\n",
       "      <td>111.1</td>\n",
       "    </tr>\n",
       "    <tr>\n",
       "      <th>0.004000</th>\n",
       "      <td>0.458496</td>\n",
       "      <td>0.243515</td>\n",
       "      <td>0.026960</td>\n",
       "      <td>0.012677</td>\n",
       "      <td>0.873176</td>\n",
       "      <td>0.914988</td>\n",
       "      <td>0.884572</td>\n",
       "      <td>0.878790</td>\n",
       "      <td>0.916980</td>\n",
       "      <td>0.893701</td>\n",
       "      <td>0.020275</td>\n",
       "      <td>123.0</td>\n",
       "    </tr>\n",
       "    <tr>\n",
       "      <th>0.004942</th>\n",
       "      <td>0.409332</td>\n",
       "      <td>0.195159</td>\n",
       "      <td>0.028952</td>\n",
       "      <td>0.015492</td>\n",
       "      <td>0.870708</td>\n",
       "      <td>0.914929</td>\n",
       "      <td>0.874268</td>\n",
       "      <td>0.877900</td>\n",
       "      <td>0.913616</td>\n",
       "      <td>0.890284</td>\n",
       "      <td>0.021708</td>\n",
       "      <td>134.3</td>\n",
       "    </tr>\n",
       "    <tr>\n",
       "      <th>0.006105</th>\n",
       "      <td>0.412685</td>\n",
       "      <td>0.121114</td>\n",
       "      <td>0.030776</td>\n",
       "      <td>0.008723</td>\n",
       "      <td>0.867794</td>\n",
       "      <td>0.914469</td>\n",
       "      <td>0.863552</td>\n",
       "      <td>0.876823</td>\n",
       "      <td>0.909939</td>\n",
       "      <td>0.886515</td>\n",
       "      <td>0.023456</td>\n",
       "      <td>145.4</td>\n",
       "    </tr>\n",
       "    <tr>\n",
       "      <th>0.007543</th>\n",
       "      <td>0.159730</td>\n",
       "      <td>0.020714</td>\n",
       "      <td>0.015237</td>\n",
       "      <td>0.001622</td>\n",
       "      <td>0.864575</td>\n",
       "      <td>0.913772</td>\n",
       "      <td>0.851978</td>\n",
       "      <td>0.875447</td>\n",
       "      <td>0.906426</td>\n",
       "      <td>0.882440</td>\n",
       "      <td>0.025714</td>\n",
       "      <td>156.4</td>\n",
       "    </tr>\n",
       "    <tr>\n",
       "      <th>0.009319</th>\n",
       "      <td>0.134107</td>\n",
       "      <td>0.018823</td>\n",
       "      <td>0.015038</td>\n",
       "      <td>0.001603</td>\n",
       "      <td>0.861404</td>\n",
       "      <td>0.912886</td>\n",
       "      <td>0.841084</td>\n",
       "      <td>0.873740</td>\n",
       "      <td>0.902960</td>\n",
       "      <td>0.878415</td>\n",
       "      <td>0.027979</td>\n",
       "      <td>166.4</td>\n",
       "    </tr>\n",
       "    <tr>\n",
       "      <th>0.011514</th>\n",
       "      <td>0.331390</td>\n",
       "      <td>0.083080</td>\n",
       "      <td>0.037893</td>\n",
       "      <td>0.014029</td>\n",
       "      <td>0.858315</td>\n",
       "      <td>0.912110</td>\n",
       "      <td>0.832174</td>\n",
       "      <td>0.871833</td>\n",
       "      <td>0.899397</td>\n",
       "      <td>0.874765</td>\n",
       "      <td>0.029782</td>\n",
       "      <td>176.7</td>\n",
       "    </tr>\n",
       "    <tr>\n",
       "      <th>0.014225</th>\n",
       "      <td>0.113215</td>\n",
       "      <td>0.013528</td>\n",
       "      <td>0.015423</td>\n",
       "      <td>0.001564</td>\n",
       "      <td>0.855238</td>\n",
       "      <td>0.911698</td>\n",
       "      <td>0.825415</td>\n",
       "      <td>0.869654</td>\n",
       "      <td>0.895737</td>\n",
       "      <td>0.871548</td>\n",
       "      <td>0.031106</td>\n",
       "      <td>186.5</td>\n",
       "    </tr>\n",
       "    <tr>\n",
       "      <th>0.017575</th>\n",
       "      <td>0.108718</td>\n",
       "      <td>0.010558</td>\n",
       "      <td>0.015290</td>\n",
       "      <td>0.001628</td>\n",
       "      <td>0.852085</td>\n",
       "      <td>0.911451</td>\n",
       "      <td>0.820471</td>\n",
       "      <td>0.867139</td>\n",
       "      <td>0.891559</td>\n",
       "      <td>0.868541</td>\n",
       "      <td>0.032005</td>\n",
       "      <td>195.9</td>\n",
       "    </tr>\n",
       "    <tr>\n",
       "      <th>0.021714</th>\n",
       "      <td>0.096184</td>\n",
       "      <td>0.007480</td>\n",
       "      <td>0.015502</td>\n",
       "      <td>0.001731</td>\n",
       "      <td>0.848766</td>\n",
       "      <td>0.911263</td>\n",
       "      <td>0.816898</td>\n",
       "      <td>0.864058</td>\n",
       "      <td>0.886347</td>\n",
       "      <td>0.865467</td>\n",
       "      <td>0.032530</td>\n",
       "      <td>205.8</td>\n",
       "    </tr>\n",
       "    <tr>\n",
       "      <th>0.026827</th>\n",
       "      <td>0.091494</td>\n",
       "      <td>0.007448</td>\n",
       "      <td>0.015353</td>\n",
       "      <td>0.001836</td>\n",
       "      <td>0.845064</td>\n",
       "      <td>0.910802</td>\n",
       "      <td>0.814900</td>\n",
       "      <td>0.860163</td>\n",
       "      <td>0.879753</td>\n",
       "      <td>0.862136</td>\n",
       "      <td>0.032622</td>\n",
       "      <td>215.3</td>\n",
       "    </tr>\n",
       "    <tr>\n",
       "      <th>0.033144</th>\n",
       "      <td>0.157625</td>\n",
       "      <td>0.035249</td>\n",
       "      <td>0.030857</td>\n",
       "      <td>0.007493</td>\n",
       "      <td>0.841112</td>\n",
       "      <td>0.909799</td>\n",
       "      <td>0.814094</td>\n",
       "      <td>0.855359</td>\n",
       "      <td>0.873780</td>\n",
       "      <td>0.858829</td>\n",
       "      <td>0.032462</td>\n",
       "      <td>225.3</td>\n",
       "    </tr>\n",
       "    <tr>\n",
       "      <th>0.040949</th>\n",
       "      <td>0.216603</td>\n",
       "      <td>0.018392</td>\n",
       "      <td>0.040140</td>\n",
       "      <td>0.003279</td>\n",
       "      <td>0.836840</td>\n",
       "      <td>0.908484</td>\n",
       "      <td>0.813814</td>\n",
       "      <td>0.849653</td>\n",
       "      <td>0.868254</td>\n",
       "      <td>0.855409</td>\n",
       "      <td>0.032381</td>\n",
       "      <td>235.4</td>\n",
       "    </tr>\n",
       "    <tr>\n",
       "      <th>0.050592</th>\n",
       "      <td>0.077220</td>\n",
       "      <td>0.003456</td>\n",
       "      <td>0.015714</td>\n",
       "      <td>0.001570</td>\n",
       "      <td>0.831823</td>\n",
       "      <td>0.906214</td>\n",
       "      <td>0.815023</td>\n",
       "      <td>0.842511</td>\n",
       "      <td>0.862722</td>\n",
       "      <td>0.851658</td>\n",
       "      <td>0.032032</td>\n",
       "      <td>245.5</td>\n",
       "    </tr>\n",
       "    <tr>\n",
       "      <th>0.062506</th>\n",
       "      <td>0.074945</td>\n",
       "      <td>0.004160</td>\n",
       "      <td>0.015353</td>\n",
       "      <td>0.001832</td>\n",
       "      <td>0.825694</td>\n",
       "      <td>0.902589</td>\n",
       "      <td>0.816173</td>\n",
       "      <td>0.833948</td>\n",
       "      <td>0.857087</td>\n",
       "      <td>0.847098</td>\n",
       "      <td>0.031809</td>\n",
       "      <td>255.5</td>\n",
       "    </tr>\n",
       "    <tr>\n",
       "      <th>0.077224</th>\n",
       "      <td>0.071304</td>\n",
       "      <td>0.005080</td>\n",
       "      <td>0.015298</td>\n",
       "      <td>0.001575</td>\n",
       "      <td>0.818478</td>\n",
       "      <td>0.897293</td>\n",
       "      <td>0.816915</td>\n",
       "      <td>0.824609</td>\n",
       "      <td>0.850842</td>\n",
       "      <td>0.841627</td>\n",
       "      <td>0.031488</td>\n",
       "      <td>265.5</td>\n",
       "    </tr>\n",
       "    <tr>\n",
       "      <th>0.095410</th>\n",
       "      <td>0.234998</td>\n",
       "      <td>0.041306</td>\n",
       "      <td>0.056858</td>\n",
       "      <td>0.010192</td>\n",
       "      <td>0.810153</td>\n",
       "      <td>0.890343</td>\n",
       "      <td>0.816683</td>\n",
       "      <td>0.814070</td>\n",
       "      <td>0.843670</td>\n",
       "      <td>0.834984</td>\n",
       "      <td>0.031284</td>\n",
       "      <td>275.2</td>\n",
       "    </tr>\n",
       "    <tr>\n",
       "      <th>0.117877</th>\n",
       "      <td>0.066113</td>\n",
       "      <td>0.004005</td>\n",
       "      <td>0.015398</td>\n",
       "      <td>0.001850</td>\n",
       "      <td>0.799843</td>\n",
       "      <td>0.880849</td>\n",
       "      <td>0.814538</td>\n",
       "      <td>0.801581</td>\n",
       "      <td>0.834469</td>\n",
       "      <td>0.826256</td>\n",
       "      <td>0.031250</td>\n",
       "      <td>285.3</td>\n",
       "    </tr>\n",
       "    <tr>\n",
       "      <th>0.145635</th>\n",
       "      <td>0.063346</td>\n",
       "      <td>0.004221</td>\n",
       "      <td>0.015067</td>\n",
       "      <td>0.001475</td>\n",
       "      <td>0.786430</td>\n",
       "      <td>0.867540</td>\n",
       "      <td>0.808989</td>\n",
       "      <td>0.786160</td>\n",
       "      <td>0.822661</td>\n",
       "      <td>0.814356</td>\n",
       "      <td>0.031412</td>\n",
       "      <td>295.2</td>\n",
       "    </tr>\n",
       "    <tr>\n",
       "      <th>0.179929</th>\n",
       "      <td>0.062076</td>\n",
       "      <td>0.003240</td>\n",
       "      <td>0.015440</td>\n",
       "      <td>0.001519</td>\n",
       "      <td>0.768845</td>\n",
       "      <td>0.849430</td>\n",
       "      <td>0.799300</td>\n",
       "      <td>0.766569</td>\n",
       "      <td>0.806212</td>\n",
       "      <td>0.798071</td>\n",
       "      <td>0.031780</td>\n",
       "      <td>305.5</td>\n",
       "    </tr>\n",
       "    <tr>\n",
       "      <th>0.222300</th>\n",
       "      <td>0.059672</td>\n",
       "      <td>0.003755</td>\n",
       "      <td>0.015086</td>\n",
       "      <td>0.001553</td>\n",
       "      <td>0.745326</td>\n",
       "      <td>0.825114</td>\n",
       "      <td>0.784134</td>\n",
       "      <td>0.741171</td>\n",
       "      <td>0.783342</td>\n",
       "      <td>0.775817</td>\n",
       "      <td>0.032397</td>\n",
       "      <td>315.5</td>\n",
       "    </tr>\n",
       "    <tr>\n",
       "      <th>0.274647</th>\n",
       "      <td>0.058915</td>\n",
       "      <td>0.003848</td>\n",
       "      <td>0.014770</td>\n",
       "      <td>0.001758</td>\n",
       "      <td>0.713932</td>\n",
       "      <td>0.792116</td>\n",
       "      <td>0.760191</td>\n",
       "      <td>0.707436</td>\n",
       "      <td>0.751720</td>\n",
       "      <td>0.745079</td>\n",
       "      <td>0.033094</td>\n",
       "      <td>325.7</td>\n",
       "    </tr>\n",
       "    <tr>\n",
       "      <th>0.339322</th>\n",
       "      <td>0.058828</td>\n",
       "      <td>0.003600</td>\n",
       "      <td>0.015944</td>\n",
       "      <td>0.002432</td>\n",
       "      <td>0.671180</td>\n",
       "      <td>0.746847</td>\n",
       "      <td>0.722798</td>\n",
       "      <td>0.662257</td>\n",
       "      <td>0.706486</td>\n",
       "      <td>0.701914</td>\n",
       "      <td>0.033455</td>\n",
       "      <td>335.9</td>\n",
       "    </tr>\n",
       "    <tr>\n",
       "      <th>0.419227</th>\n",
       "      <td>0.054514</td>\n",
       "      <td>0.004838</td>\n",
       "      <td>0.014720</td>\n",
       "      <td>0.002302</td>\n",
       "      <td>0.612864</td>\n",
       "      <td>0.684689</td>\n",
       "      <td>0.667260</td>\n",
       "      <td>0.600356</td>\n",
       "      <td>0.642932</td>\n",
       "      <td>0.641620</td>\n",
       "      <td>0.033568</td>\n",
       "      <td>345.5</td>\n",
       "    </tr>\n",
       "    <tr>\n",
       "      <th>0.517947</th>\n",
       "      <td>0.052355</td>\n",
       "      <td>0.003479</td>\n",
       "      <td>0.014917</td>\n",
       "      <td>0.002269</td>\n",
       "      <td>0.536491</td>\n",
       "      <td>0.603125</td>\n",
       "      <td>0.589751</td>\n",
       "      <td>0.522377</td>\n",
       "      <td>0.562263</td>\n",
       "      <td>0.562801</td>\n",
       "      <td>0.032023</td>\n",
       "      <td>355.4</td>\n",
       "    </tr>\n",
       "    <tr>\n",
       "      <th>0.639915</th>\n",
       "      <td>0.227495</td>\n",
       "      <td>0.047233</td>\n",
       "      <td>0.071193</td>\n",
       "      <td>0.013197</td>\n",
       "      <td>0.439147</td>\n",
       "      <td>0.497933</td>\n",
       "      <td>0.486936</td>\n",
       "      <td>0.425428</td>\n",
       "      <td>0.461170</td>\n",
       "      <td>0.462123</td>\n",
       "      <td>0.028515</td>\n",
       "      <td>365.9</td>\n",
       "    </tr>\n",
       "    <tr>\n",
       "      <th>0.790604</th>\n",
       "      <td>0.051398</td>\n",
       "      <td>0.004240</td>\n",
       "      <td>0.014941</td>\n",
       "      <td>0.002000</td>\n",
       "      <td>0.339654</td>\n",
       "      <td>0.387531</td>\n",
       "      <td>0.378745</td>\n",
       "      <td>0.330325</td>\n",
       "      <td>0.359312</td>\n",
       "      <td>0.359113</td>\n",
       "      <td>0.023182</td>\n",
       "      <td>375.2</td>\n",
       "    </tr>\n",
       "    <tr>\n",
       "      <th>0.976778</th>\n",
       "      <td>0.051960</td>\n",
       "      <td>0.002989</td>\n",
       "      <td>0.014081</td>\n",
       "      <td>0.001351</td>\n",
       "      <td>0.258939</td>\n",
       "      <td>0.298065</td>\n",
       "      <td>0.290510</td>\n",
       "      <td>0.254302</td>\n",
       "      <td>0.275850</td>\n",
       "      <td>0.275533</td>\n",
       "      <td>0.018569</td>\n",
       "      <td>382.8</td>\n",
       "    </tr>\n",
       "    <tr>\n",
       "      <th>1.206793</th>\n",
       "      <td>0.054394</td>\n",
       "      <td>0.007425</td>\n",
       "      <td>0.016086</td>\n",
       "      <td>0.002778</td>\n",
       "      <td>0.195976</td>\n",
       "      <td>0.228122</td>\n",
       "      <td>0.222266</td>\n",
       "      <td>0.193541</td>\n",
       "      <td>0.210789</td>\n",
       "      <td>0.210139</td>\n",
       "      <td>0.015348</td>\n",
       "      <td>388.7</td>\n",
       "    </tr>\n",
       "    <tr>\n",
       "      <th>1.490972</th>\n",
       "      <td>0.052437</td>\n",
       "      <td>0.005785</td>\n",
       "      <td>0.014885</td>\n",
       "      <td>0.001646</td>\n",
       "      <td>0.145830</td>\n",
       "      <td>0.172402</td>\n",
       "      <td>0.166753</td>\n",
       "      <td>0.145699</td>\n",
       "      <td>0.158642</td>\n",
       "      <td>0.157865</td>\n",
       "      <td>0.012445</td>\n",
       "      <td>393.2</td>\n",
       "    </tr>\n",
       "    <tr>\n",
       "      <th>1.842070</th>\n",
       "      <td>0.048177</td>\n",
       "      <td>0.002837</td>\n",
       "      <td>0.015000</td>\n",
       "      <td>0.001810</td>\n",
       "      <td>0.104999</td>\n",
       "      <td>0.126849</td>\n",
       "      <td>0.122216</td>\n",
       "      <td>0.107455</td>\n",
       "      <td>0.116925</td>\n",
       "      <td>0.115689</td>\n",
       "      <td>0.010047</td>\n",
       "      <td>396.4</td>\n",
       "    </tr>\n",
       "    <tr>\n",
       "      <th>2.275846</th>\n",
       "      <td>0.048831</td>\n",
       "      <td>0.003852</td>\n",
       "      <td>0.014239</td>\n",
       "      <td>0.001190</td>\n",
       "      <td>0.070948</td>\n",
       "      <td>0.088792</td>\n",
       "      <td>0.084255</td>\n",
       "      <td>0.074929</td>\n",
       "      <td>0.080898</td>\n",
       "      <td>0.079964</td>\n",
       "      <td>0.008118</td>\n",
       "      <td>399.5</td>\n",
       "    </tr>\n",
       "    <tr>\n",
       "      <th>2.811769</th>\n",
       "      <td>0.048380</td>\n",
       "      <td>0.004394</td>\n",
       "      <td>0.014583</td>\n",
       "      <td>0.001564</td>\n",
       "      <td>0.048193</td>\n",
       "      <td>0.063569</td>\n",
       "      <td>0.059226</td>\n",
       "      <td>0.052997</td>\n",
       "      <td>0.057450</td>\n",
       "      <td>0.056287</td>\n",
       "      <td>0.006790</td>\n",
       "      <td>401.1</td>\n",
       "    </tr>\n",
       "    <tr>\n",
       "      <th>3.473892</th>\n",
       "      <td>0.048446</td>\n",
       "      <td>0.003499</td>\n",
       "      <td>0.014220</td>\n",
       "      <td>0.001851</td>\n",
       "      <td>0.027544</td>\n",
       "      <td>0.040133</td>\n",
       "      <td>0.036544</td>\n",
       "      <td>0.033817</td>\n",
       "      <td>0.035952</td>\n",
       "      <td>0.034798</td>\n",
       "      <td>0.005591</td>\n",
       "      <td>402.8</td>\n",
       "    </tr>\n",
       "    <tr>\n",
       "      <th>4.291934</th>\n",
       "      <td>0.048993</td>\n",
       "      <td>0.003840</td>\n",
       "      <td>0.014679</td>\n",
       "      <td>0.001935</td>\n",
       "      <td>0.013289</td>\n",
       "      <td>0.024275</td>\n",
       "      <td>0.020949</td>\n",
       "      <td>0.019932</td>\n",
       "      <td>0.020583</td>\n",
       "      <td>0.019806</td>\n",
       "      <td>0.004861</td>\n",
       "      <td>403.8</td>\n",
       "    </tr>\n",
       "    <tr>\n",
       "      <th>5.302611</th>\n",
       "      <td>0.066429</td>\n",
       "      <td>0.014777</td>\n",
       "      <td>0.023154</td>\n",
       "      <td>0.005757</td>\n",
       "      <td>-0.000141</td>\n",
       "      <td>0.009107</td>\n",
       "      <td>0.004965</td>\n",
       "      <td>0.006878</td>\n",
       "      <td>0.006268</td>\n",
       "      <td>0.005416</td>\n",
       "      <td>0.003797</td>\n",
       "      <td>404.6</td>\n",
       "    </tr>\n",
       "    <tr>\n",
       "      <th>6.551286</th>\n",
       "      <td>0.215410</td>\n",
       "      <td>0.039039</td>\n",
       "      <td>0.072451</td>\n",
       "      <td>0.016161</td>\n",
       "      <td>-0.007347</td>\n",
       "      <td>0.000987</td>\n",
       "      <td>-0.003600</td>\n",
       "      <td>0.000338</td>\n",
       "      <td>-0.000814</td>\n",
       "      <td>-0.002087</td>\n",
       "      <td>0.003181</td>\n",
       "      <td>404.9</td>\n",
       "    </tr>\n",
       "    <tr>\n",
       "      <th>8.094001</th>\n",
       "      <td>0.047225</td>\n",
       "      <td>0.002885</td>\n",
       "      <td>0.014947</td>\n",
       "      <td>0.001848</td>\n",
       "      <td>-0.008111</td>\n",
       "      <td>-0.000161</td>\n",
       "      <td>-0.004749</td>\n",
       "      <td>-0.000004</td>\n",
       "      <td>-0.001670</td>\n",
       "      <td>-0.002939</td>\n",
       "      <td>0.003097</td>\n",
       "      <td>405.0</td>\n",
       "    </tr>\n",
       "    <tr>\n",
       "      <th>10.000000</th>\n",
       "      <td>0.047431</td>\n",
       "      <td>0.003659</td>\n",
       "      <td>0.014422</td>\n",
       "      <td>0.001820</td>\n",
       "      <td>-0.008111</td>\n",
       "      <td>-0.000161</td>\n",
       "      <td>-0.004749</td>\n",
       "      <td>-0.000004</td>\n",
       "      <td>-0.001670</td>\n",
       "      <td>-0.002939</td>\n",
       "      <td>0.003097</td>\n",
       "      <td>405.0</td>\n",
       "    </tr>\n",
       "  </tbody>\n",
       "</table>\n",
       "</div>"
      ],
      "text/plain": [
       "                         mean_fit_time  std_fit_time  mean_score_time  \\\n",
       "param_elasticnet__alpha                                                 \n",
       "0.000316                      5.510621      4.550484         0.029618   \n",
       "0.000391                      3.481743      2.654596         0.028921   \n",
       "0.000483                      2.880677      2.005138         0.022241   \n",
       "0.000596                      2.636862      2.460317         0.024718   \n",
       "0.000737                      1.823921      1.254666         0.030065   \n",
       "0.000910                      1.740020      1.506104         0.032353   \n",
       "0.001125                      1.239133      0.876627         0.024506   \n",
       "0.001389                      1.291976      1.072082         0.035616   \n",
       "0.001717                      0.970566      0.696066         0.027626   \n",
       "0.002121                      0.614406      0.229895         0.023532   \n",
       "0.002620                      0.541339      0.261624         0.025531   \n",
       "0.003237                      0.524111      0.156219         0.026384   \n",
       "0.004000                      0.458496      0.243515         0.026960   \n",
       "0.004942                      0.409332      0.195159         0.028952   \n",
       "0.006105                      0.412685      0.121114         0.030776   \n",
       "0.007543                      0.159730      0.020714         0.015237   \n",
       "0.009319                      0.134107      0.018823         0.015038   \n",
       "0.011514                      0.331390      0.083080         0.037893   \n",
       "0.014225                      0.113215      0.013528         0.015423   \n",
       "0.017575                      0.108718      0.010558         0.015290   \n",
       "0.021714                      0.096184      0.007480         0.015502   \n",
       "0.026827                      0.091494      0.007448         0.015353   \n",
       "0.033144                      0.157625      0.035249         0.030857   \n",
       "0.040949                      0.216603      0.018392         0.040140   \n",
       "0.050592                      0.077220      0.003456         0.015714   \n",
       "0.062506                      0.074945      0.004160         0.015353   \n",
       "0.077224                      0.071304      0.005080         0.015298   \n",
       "0.095410                      0.234998      0.041306         0.056858   \n",
       "0.117877                      0.066113      0.004005         0.015398   \n",
       "0.145635                      0.063346      0.004221         0.015067   \n",
       "0.179929                      0.062076      0.003240         0.015440   \n",
       "0.222300                      0.059672      0.003755         0.015086   \n",
       "0.274647                      0.058915      0.003848         0.014770   \n",
       "0.339322                      0.058828      0.003600         0.015944   \n",
       "0.419227                      0.054514      0.004838         0.014720   \n",
       "0.517947                      0.052355      0.003479         0.014917   \n",
       "0.639915                      0.227495      0.047233         0.071193   \n",
       "0.790604                      0.051398      0.004240         0.014941   \n",
       "0.976778                      0.051960      0.002989         0.014081   \n",
       "1.206793                      0.054394      0.007425         0.016086   \n",
       "1.490972                      0.052437      0.005785         0.014885   \n",
       "1.842070                      0.048177      0.002837         0.015000   \n",
       "2.275846                      0.048831      0.003852         0.014239   \n",
       "2.811769                      0.048380      0.004394         0.014583   \n",
       "3.473892                      0.048446      0.003499         0.014220   \n",
       "4.291934                      0.048993      0.003840         0.014679   \n",
       "5.302611                      0.066429      0.014777         0.023154   \n",
       "6.551286                      0.215410      0.039039         0.072451   \n",
       "8.094001                      0.047225      0.002885         0.014947   \n",
       "10.000000                     0.047431      0.003659         0.014422   \n",
       "\n",
       "                         std_score_time  split0_test_score  split1_test_score  \\\n",
       "param_elasticnet__alpha                                                         \n",
       "0.000316                       0.024244           0.886648           0.901520   \n",
       "0.000391                       0.030004           0.886401           0.903255   \n",
       "0.000483                       0.015799           0.885966           0.904985   \n",
       "0.000596                       0.016558           0.885391           0.906689   \n",
       "0.000737                       0.023895           0.884730           0.908297   \n",
       "0.000910                       0.032187           0.883933           0.909559   \n",
       "0.001125                       0.018942           0.882899           0.910456   \n",
       "0.001389                       0.024564           0.881641           0.911081   \n",
       "0.001717                       0.019669           0.880277           0.911951   \n",
       "0.002121                       0.011071           0.878765           0.912898   \n",
       "0.002620                       0.012134           0.877106           0.913911   \n",
       "0.003237                       0.010882           0.875242           0.914693   \n",
       "0.004000                       0.012677           0.873176           0.914988   \n",
       "0.004942                       0.015492           0.870708           0.914929   \n",
       "0.006105                       0.008723           0.867794           0.914469   \n",
       "0.007543                       0.001622           0.864575           0.913772   \n",
       "0.009319                       0.001603           0.861404           0.912886   \n",
       "0.011514                       0.014029           0.858315           0.912110   \n",
       "0.014225                       0.001564           0.855238           0.911698   \n",
       "0.017575                       0.001628           0.852085           0.911451   \n",
       "0.021714                       0.001731           0.848766           0.911263   \n",
       "0.026827                       0.001836           0.845064           0.910802   \n",
       "0.033144                       0.007493           0.841112           0.909799   \n",
       "0.040949                       0.003279           0.836840           0.908484   \n",
       "0.050592                       0.001570           0.831823           0.906214   \n",
       "0.062506                       0.001832           0.825694           0.902589   \n",
       "0.077224                       0.001575           0.818478           0.897293   \n",
       "0.095410                       0.010192           0.810153           0.890343   \n",
       "0.117877                       0.001850           0.799843           0.880849   \n",
       "0.145635                       0.001475           0.786430           0.867540   \n",
       "0.179929                       0.001519           0.768845           0.849430   \n",
       "0.222300                       0.001553           0.745326           0.825114   \n",
       "0.274647                       0.001758           0.713932           0.792116   \n",
       "0.339322                       0.002432           0.671180           0.746847   \n",
       "0.419227                       0.002302           0.612864           0.684689   \n",
       "0.517947                       0.002269           0.536491           0.603125   \n",
       "0.639915                       0.013197           0.439147           0.497933   \n",
       "0.790604                       0.002000           0.339654           0.387531   \n",
       "0.976778                       0.001351           0.258939           0.298065   \n",
       "1.206793                       0.002778           0.195976           0.228122   \n",
       "1.490972                       0.001646           0.145830           0.172402   \n",
       "1.842070                       0.001810           0.104999           0.126849   \n",
       "2.275846                       0.001190           0.070948           0.088792   \n",
       "2.811769                       0.001564           0.048193           0.063569   \n",
       "3.473892                       0.001851           0.027544           0.040133   \n",
       "4.291934                       0.001935           0.013289           0.024275   \n",
       "5.302611                       0.005757          -0.000141           0.009107   \n",
       "6.551286                       0.016161          -0.007347           0.000987   \n",
       "8.094001                       0.001848          -0.008111          -0.000161   \n",
       "10.000000                      0.001820          -0.008111          -0.000161   \n",
       "\n",
       "                         split2_test_score  split3_test_score  \\\n",
       "param_elasticnet__alpha                                         \n",
       "0.000316                          0.922178           0.877815   \n",
       "0.000391                          0.922228           0.878178   \n",
       "0.000483                          0.922084           0.878602   \n",
       "0.000596                          0.921720           0.879073   \n",
       "0.000737                          0.921014           0.879588   \n",
       "0.000910                          0.919817           0.880073   \n",
       "0.001125                          0.918016           0.880455   \n",
       "0.001389                          0.915528           0.880681   \n",
       "0.001717                          0.912148           0.880750   \n",
       "0.002121                          0.907702           0.880619   \n",
       "0.002620                          0.901565           0.880186   \n",
       "0.003237                          0.894038           0.879600   \n",
       "0.004000                          0.884572           0.878790   \n",
       "0.004942                          0.874268           0.877900   \n",
       "0.006105                          0.863552           0.876823   \n",
       "0.007543                          0.851978           0.875447   \n",
       "0.009319                          0.841084           0.873740   \n",
       "0.011514                          0.832174           0.871833   \n",
       "0.014225                          0.825415           0.869654   \n",
       "0.017575                          0.820471           0.867139   \n",
       "0.021714                          0.816898           0.864058   \n",
       "0.026827                          0.814900           0.860163   \n",
       "0.033144                          0.814094           0.855359   \n",
       "0.040949                          0.813814           0.849653   \n",
       "0.050592                          0.815023           0.842511   \n",
       "0.062506                          0.816173           0.833948   \n",
       "0.077224                          0.816915           0.824609   \n",
       "0.095410                          0.816683           0.814070   \n",
       "0.117877                          0.814538           0.801581   \n",
       "0.145635                          0.808989           0.786160   \n",
       "0.179929                          0.799300           0.766569   \n",
       "0.222300                          0.784134           0.741171   \n",
       "0.274647                          0.760191           0.707436   \n",
       "0.339322                          0.722798           0.662257   \n",
       "0.419227                          0.667260           0.600356   \n",
       "0.517947                          0.589751           0.522377   \n",
       "0.639915                          0.486936           0.425428   \n",
       "0.790604                          0.378745           0.330325   \n",
       "0.976778                          0.290510           0.254302   \n",
       "1.206793                          0.222266           0.193541   \n",
       "1.490972                          0.166753           0.145699   \n",
       "1.842070                          0.122216           0.107455   \n",
       "2.275846                          0.084255           0.074929   \n",
       "2.811769                          0.059226           0.052997   \n",
       "3.473892                          0.036544           0.033817   \n",
       "4.291934                          0.020949           0.019932   \n",
       "5.302611                          0.004965           0.006878   \n",
       "6.551286                         -0.003600           0.000338   \n",
       "8.094001                         -0.004749          -0.000004   \n",
       "10.000000                        -0.004749          -0.000004   \n",
       "\n",
       "                         split4_test_score  mean_test_score  std_test_score  \\\n",
       "param_elasticnet__alpha                                                       \n",
       "0.000316                          0.928041         0.903241        0.019561   \n",
       "0.000391                          0.928425         0.903697        0.019613   \n",
       "0.000483                          0.928751         0.904078        0.019657   \n",
       "0.000596                          0.928994         0.904374        0.019684   \n",
       "0.000737                          0.929110         0.904548        0.019653   \n",
       "0.000910                          0.929054         0.904487        0.019555   \n",
       "0.001125                          0.928778         0.904121        0.019410   \n",
       "0.001389                          0.928110         0.903408        0.019208   \n",
       "0.001717                          0.926938         0.902413        0.018985   \n",
       "0.002121                          0.925166         0.901030        0.018807   \n",
       "0.002620                          0.922898         0.899133        0.018898   \n",
       "0.003237                          0.920149         0.896745        0.019322   \n",
       "0.004000                          0.916980         0.893701        0.020275   \n",
       "0.004942                          0.913616         0.890284        0.021708   \n",
       "0.006105                          0.909939         0.886515        0.023456   \n",
       "0.007543                          0.906426         0.882440        0.025714   \n",
       "0.009319                          0.902960         0.878415        0.027979   \n",
       "0.011514                          0.899397         0.874765        0.029782   \n",
       "0.014225                          0.895737         0.871548        0.031106   \n",
       "0.017575                          0.891559         0.868541        0.032005   \n",
       "0.021714                          0.886347         0.865467        0.032530   \n",
       "0.026827                          0.879753         0.862136        0.032622   \n",
       "0.033144                          0.873780         0.858829        0.032462   \n",
       "0.040949                          0.868254         0.855409        0.032381   \n",
       "0.050592                          0.862722         0.851658        0.032032   \n",
       "0.062506                          0.857087         0.847098        0.031809   \n",
       "0.077224                          0.850842         0.841627        0.031488   \n",
       "0.095410                          0.843670         0.834984        0.031284   \n",
       "0.117877                          0.834469         0.826256        0.031250   \n",
       "0.145635                          0.822661         0.814356        0.031412   \n",
       "0.179929                          0.806212         0.798071        0.031780   \n",
       "0.222300                          0.783342         0.775817        0.032397   \n",
       "0.274647                          0.751720         0.745079        0.033094   \n",
       "0.339322                          0.706486         0.701914        0.033455   \n",
       "0.419227                          0.642932         0.641620        0.033568   \n",
       "0.517947                          0.562263         0.562801        0.032023   \n",
       "0.639915                          0.461170         0.462123        0.028515   \n",
       "0.790604                          0.359312         0.359113        0.023182   \n",
       "0.976778                          0.275850         0.275533        0.018569   \n",
       "1.206793                          0.210789         0.210139        0.015348   \n",
       "1.490972                          0.158642         0.157865        0.012445   \n",
       "1.842070                          0.116925         0.115689        0.010047   \n",
       "2.275846                          0.080898         0.079964        0.008118   \n",
       "2.811769                          0.057450         0.056287        0.006790   \n",
       "3.473892                          0.035952         0.034798        0.005591   \n",
       "4.291934                          0.020583         0.019806        0.004861   \n",
       "5.302611                          0.006268         0.005416        0.003797   \n",
       "6.551286                         -0.000814        -0.002087        0.003181   \n",
       "8.094001                         -0.001670        -0.002939        0.003097   \n",
       "10.000000                        -0.001670        -0.002939        0.003097   \n",
       "\n",
       "                         rank_test_score  \n",
       "param_elasticnet__alpha                   \n",
       "0.000316                            71.6  \n",
       "0.000391                            60.3  \n",
       "0.000483                            48.7  \n",
       "0.000596                            38.7  \n",
       "0.000737                            35.4  \n",
       "0.000910                            39.2  \n",
       "0.001125                            48.0  \n",
       "0.001389                            58.9  \n",
       "0.001717                            72.2  \n",
       "0.002121                            85.8  \n",
       "0.002620                            98.1  \n",
       "0.003237                           111.1  \n",
       "0.004000                           123.0  \n",
       "0.004942                           134.3  \n",
       "0.006105                           145.4  \n",
       "0.007543                           156.4  \n",
       "0.009319                           166.4  \n",
       "0.011514                           176.7  \n",
       "0.014225                           186.5  \n",
       "0.017575                           195.9  \n",
       "0.021714                           205.8  \n",
       "0.026827                           215.3  \n",
       "0.033144                           225.3  \n",
       "0.040949                           235.4  \n",
       "0.050592                           245.5  \n",
       "0.062506                           255.5  \n",
       "0.077224                           265.5  \n",
       "0.095410                           275.2  \n",
       "0.117877                           285.3  \n",
       "0.145635                           295.2  \n",
       "0.179929                           305.5  \n",
       "0.222300                           315.5  \n",
       "0.274647                           325.7  \n",
       "0.339322                           335.9  \n",
       "0.419227                           345.5  \n",
       "0.517947                           355.4  \n",
       "0.639915                           365.9  \n",
       "0.790604                           375.2  \n",
       "0.976778                           382.8  \n",
       "1.206793                           388.7  \n",
       "1.490972                           393.2  \n",
       "1.842070                           396.4  \n",
       "2.275846                           399.5  \n",
       "2.811769                           401.1  \n",
       "3.473892                           402.8  \n",
       "4.291934                           403.8  \n",
       "5.302611                           404.6  \n",
       "6.551286                           404.9  \n",
       "8.094001                           405.0  \n",
       "10.000000                          405.0  "
      ]
     },
     "execution_count": 76,
     "metadata": {},
     "output_type": "execute_result"
    }
   ],
   "source": [
    "cv_results.groupby(by = 'param_elasticnet__alpha').mean()"
   ]
  },
  {
   "cell_type": "code",
   "execution_count": 77,
   "metadata": {},
   "outputs": [
    {
     "data": {
      "text/html": [
       "<div>\n",
       "<style scoped>\n",
       "    .dataframe tbody tr th:only-of-type {\n",
       "        vertical-align: middle;\n",
       "    }\n",
       "\n",
       "    .dataframe tbody tr th {\n",
       "        vertical-align: top;\n",
       "    }\n",
       "\n",
       "    .dataframe thead th {\n",
       "        text-align: right;\n",
       "    }\n",
       "</style>\n",
       "<table border=\"1\" class=\"dataframe\">\n",
       "  <thead>\n",
       "    <tr style=\"text-align: right;\">\n",
       "      <th></th>\n",
       "      <th>mean_fit_time</th>\n",
       "      <th>std_fit_time</th>\n",
       "      <th>mean_score_time</th>\n",
       "      <th>std_score_time</th>\n",
       "      <th>split0_test_score</th>\n",
       "      <th>split1_test_score</th>\n",
       "      <th>split2_test_score</th>\n",
       "      <th>split3_test_score</th>\n",
       "      <th>split4_test_score</th>\n",
       "      <th>mean_test_score</th>\n",
       "      <th>std_test_score</th>\n",
       "      <th>rank_test_score</th>\n",
       "    </tr>\n",
       "    <tr>\n",
       "      <th>param_elasticnet__l1_ratio</th>\n",
       "      <th></th>\n",
       "      <th></th>\n",
       "      <th></th>\n",
       "      <th></th>\n",
       "      <th></th>\n",
       "      <th></th>\n",
       "      <th></th>\n",
       "      <th></th>\n",
       "      <th></th>\n",
       "      <th></th>\n",
       "      <th></th>\n",
       "      <th></th>\n",
       "    </tr>\n",
       "  </thead>\n",
       "  <tbody>\n",
       "    <tr>\n",
       "      <th>0.05</th>\n",
       "      <td>0.717685</td>\n",
       "      <td>0.446728</td>\n",
       "      <td>0.026026</td>\n",
       "      <td>0.010354</td>\n",
       "      <td>0.741257</td>\n",
       "      <td>0.788000</td>\n",
       "      <td>0.759835</td>\n",
       "      <td>0.740868</td>\n",
       "      <td>0.777352</td>\n",
       "      <td>0.761463</td>\n",
       "      <td>0.024089</td>\n",
       "      <td>205.58</td>\n",
       "    </tr>\n",
       "    <tr>\n",
       "      <th>0.10</th>\n",
       "      <td>0.865760</td>\n",
       "      <td>0.683519</td>\n",
       "      <td>0.037610</td>\n",
       "      <td>0.010745</td>\n",
       "      <td>0.691340</td>\n",
       "      <td>0.737231</td>\n",
       "      <td>0.708019</td>\n",
       "      <td>0.692109</td>\n",
       "      <td>0.725352</td>\n",
       "      <td>0.710810</td>\n",
       "      <td>0.023173</td>\n",
       "      <td>219.88</td>\n",
       "    </tr>\n",
       "    <tr>\n",
       "      <th>0.15</th>\n",
       "      <td>0.696461</td>\n",
       "      <td>0.426349</td>\n",
       "      <td>0.030156</td>\n",
       "      <td>0.010633</td>\n",
       "      <td>0.660736</td>\n",
       "      <td>0.706068</td>\n",
       "      <td>0.676228</td>\n",
       "      <td>0.662288</td>\n",
       "      <td>0.693515</td>\n",
       "      <td>0.679767</td>\n",
       "      <td>0.022678</td>\n",
       "      <td>228.18</td>\n",
       "    </tr>\n",
       "    <tr>\n",
       "      <th>0.20</th>\n",
       "      <td>0.861491</td>\n",
       "      <td>0.624104</td>\n",
       "      <td>0.029901</td>\n",
       "      <td>0.011726</td>\n",
       "      <td>0.638877</td>\n",
       "      <td>0.683899</td>\n",
       "      <td>0.653520</td>\n",
       "      <td>0.640885</td>\n",
       "      <td>0.670668</td>\n",
       "      <td>0.657570</td>\n",
       "      <td>0.022399</td>\n",
       "      <td>236.28</td>\n",
       "    </tr>\n",
       "    <tr>\n",
       "      <th>0.25</th>\n",
       "      <td>0.603671</td>\n",
       "      <td>0.416223</td>\n",
       "      <td>0.019873</td>\n",
       "      <td>0.008758</td>\n",
       "      <td>0.621519</td>\n",
       "      <td>0.666232</td>\n",
       "      <td>0.635394</td>\n",
       "      <td>0.624062</td>\n",
       "      <td>0.652679</td>\n",
       "      <td>0.639977</td>\n",
       "      <td>0.022096</td>\n",
       "      <td>242.12</td>\n",
       "    </tr>\n",
       "    <tr>\n",
       "      <th>0.30</th>\n",
       "      <td>0.485183</td>\n",
       "      <td>0.341401</td>\n",
       "      <td>0.017883</td>\n",
       "      <td>0.005903</td>\n",
       "      <td>0.607162</td>\n",
       "      <td>0.651555</td>\n",
       "      <td>0.620276</td>\n",
       "      <td>0.610092</td>\n",
       "      <td>0.637680</td>\n",
       "      <td>0.625353</td>\n",
       "      <td>0.021827</td>\n",
       "      <td>247.44</td>\n",
       "    </tr>\n",
       "    <tr>\n",
       "      <th>0.35</th>\n",
       "      <td>0.463766</td>\n",
       "      <td>0.303251</td>\n",
       "      <td>0.016548</td>\n",
       "      <td>0.004279</td>\n",
       "      <td>0.594656</td>\n",
       "      <td>0.638663</td>\n",
       "      <td>0.607076</td>\n",
       "      <td>0.597947</td>\n",
       "      <td>0.624625</td>\n",
       "      <td>0.612593</td>\n",
       "      <td>0.021556</td>\n",
       "      <td>252.32</td>\n",
       "    </tr>\n",
       "    <tr>\n",
       "      <th>0.40</th>\n",
       "      <td>0.307079</td>\n",
       "      <td>0.196766</td>\n",
       "      <td>0.016637</td>\n",
       "      <td>0.003983</td>\n",
       "      <td>0.584337</td>\n",
       "      <td>0.628114</td>\n",
       "      <td>0.596310</td>\n",
       "      <td>0.587717</td>\n",
       "      <td>0.613878</td>\n",
       "      <td>0.602071</td>\n",
       "      <td>0.021363</td>\n",
       "      <td>257.14</td>\n",
       "    </tr>\n",
       "    <tr>\n",
       "      <th>0.45</th>\n",
       "      <td>0.259793</td>\n",
       "      <td>0.127864</td>\n",
       "      <td>0.017169</td>\n",
       "      <td>0.006120</td>\n",
       "      <td>0.574874</td>\n",
       "      <td>0.618371</td>\n",
       "      <td>0.586370</td>\n",
       "      <td>0.578712</td>\n",
       "      <td>0.603897</td>\n",
       "      <td>0.592445</td>\n",
       "      <td>0.021122</td>\n",
       "      <td>260.42</td>\n",
       "    </tr>\n",
       "    <tr>\n",
       "      <th>0.50</th>\n",
       "      <td>0.326362</td>\n",
       "      <td>0.179860</td>\n",
       "      <td>0.022594</td>\n",
       "      <td>0.006870</td>\n",
       "      <td>0.566431</td>\n",
       "      <td>0.609775</td>\n",
       "      <td>0.577627</td>\n",
       "      <td>0.570293</td>\n",
       "      <td>0.595005</td>\n",
       "      <td>0.583826</td>\n",
       "      <td>0.021019</td>\n",
       "      <td>264.44</td>\n",
       "    </tr>\n",
       "  </tbody>\n",
       "</table>\n",
       "</div>"
      ],
      "text/plain": [
       "                            mean_fit_time  std_fit_time  mean_score_time  \\\n",
       "param_elasticnet__l1_ratio                                                 \n",
       "0.05                             0.717685      0.446728         0.026026   \n",
       "0.10                             0.865760      0.683519         0.037610   \n",
       "0.15                             0.696461      0.426349         0.030156   \n",
       "0.20                             0.861491      0.624104         0.029901   \n",
       "0.25                             0.603671      0.416223         0.019873   \n",
       "0.30                             0.485183      0.341401         0.017883   \n",
       "0.35                             0.463766      0.303251         0.016548   \n",
       "0.40                             0.307079      0.196766         0.016637   \n",
       "0.45                             0.259793      0.127864         0.017169   \n",
       "0.50                             0.326362      0.179860         0.022594   \n",
       "\n",
       "                            std_score_time  split0_test_score  \\\n",
       "param_elasticnet__l1_ratio                                      \n",
       "0.05                              0.010354           0.741257   \n",
       "0.10                              0.010745           0.691340   \n",
       "0.15                              0.010633           0.660736   \n",
       "0.20                              0.011726           0.638877   \n",
       "0.25                              0.008758           0.621519   \n",
       "0.30                              0.005903           0.607162   \n",
       "0.35                              0.004279           0.594656   \n",
       "0.40                              0.003983           0.584337   \n",
       "0.45                              0.006120           0.574874   \n",
       "0.50                              0.006870           0.566431   \n",
       "\n",
       "                            split1_test_score  split2_test_score  \\\n",
       "param_elasticnet__l1_ratio                                         \n",
       "0.05                                 0.788000           0.759835   \n",
       "0.10                                 0.737231           0.708019   \n",
       "0.15                                 0.706068           0.676228   \n",
       "0.20                                 0.683899           0.653520   \n",
       "0.25                                 0.666232           0.635394   \n",
       "0.30                                 0.651555           0.620276   \n",
       "0.35                                 0.638663           0.607076   \n",
       "0.40                                 0.628114           0.596310   \n",
       "0.45                                 0.618371           0.586370   \n",
       "0.50                                 0.609775           0.577627   \n",
       "\n",
       "                            split3_test_score  split4_test_score  \\\n",
       "param_elasticnet__l1_ratio                                         \n",
       "0.05                                 0.740868           0.777352   \n",
       "0.10                                 0.692109           0.725352   \n",
       "0.15                                 0.662288           0.693515   \n",
       "0.20                                 0.640885           0.670668   \n",
       "0.25                                 0.624062           0.652679   \n",
       "0.30                                 0.610092           0.637680   \n",
       "0.35                                 0.597947           0.624625   \n",
       "0.40                                 0.587717           0.613878   \n",
       "0.45                                 0.578712           0.603897   \n",
       "0.50                                 0.570293           0.595005   \n",
       "\n",
       "                            mean_test_score  std_test_score  rank_test_score  \n",
       "param_elasticnet__l1_ratio                                                    \n",
       "0.05                               0.761463        0.024089           205.58  \n",
       "0.10                               0.710810        0.023173           219.88  \n",
       "0.15                               0.679767        0.022678           228.18  \n",
       "0.20                               0.657570        0.022399           236.28  \n",
       "0.25                               0.639977        0.022096           242.12  \n",
       "0.30                               0.625353        0.021827           247.44  \n",
       "0.35                               0.612593        0.021556           252.32  \n",
       "0.40                               0.602071        0.021363           257.14  \n",
       "0.45                               0.592445        0.021122           260.42  \n",
       "0.50                               0.583826        0.021019           264.44  "
      ]
     },
     "execution_count": 77,
     "metadata": {},
     "output_type": "execute_result"
    }
   ],
   "source": [
    "cv_results.groupby(by = 'param_elasticnet__l1_ratio').mean()"
   ]
  },
  {
   "cell_type": "markdown",
   "metadata": {},
   "source": [
    "Elastic net sends more than half of the coefficients to 0."
   ]
  },
  {
   "cell_type": "markdown",
   "metadata": {},
   "source": [
    "Since we had a lot of over fitting I'll try increasing the alpha from 0.001 to 0.002, 0.005, and 0.01"
   ]
  },
  {
   "cell_type": "code",
   "execution_count": 57,
   "metadata": {},
   "outputs": [],
   "source": [
    "pipe_elastic_net_highreg = make_pipeline(\n",
    "    encoder,\n",
    "    ElasticNet(max_iter=30_000, alpha=0.003, l1_ratio = 0.2, selection='random')\n",
    ")"
   ]
  },
  {
   "cell_type": "code",
   "execution_count": 58,
   "metadata": {},
   "outputs": [],
   "source": [
    "squares_elastic_net_log_highreg = TransformedTargetRegressor(\n",
    "    regressor = pipe_elastic_net_highreg, func = np.log, inverse_func = np.exp\n",
    ")"
   ]
  },
  {
   "cell_type": "code",
   "execution_count": 59,
   "metadata": {},
   "outputs": [
    {
     "data": {
      "text/plain": [
       "TransformedTargetRegressor(func=<ufunc 'log'>, inverse_func=<ufunc 'exp'>,\n",
       "                           regressor=Pipeline(steps=[('columntransformer',\n",
       "                                                      ColumnTransformer(remainder='passthrough',\n",
       "                                                                        transformers=[('onehotencoder-1',\n",
       "                                                                                       OneHotEncoder(handle_unknown='ignore'),\n",
       "                                                                                       <sklearn.compose._column_transformer.make_column_selector object at 0x000002552E37D250>),\n",
       "                                                                                      ('onehotencoder-2',\n",
       "                                                                                       OneHotEncoder(),\n",
       "                                                                                       ['Mo '\n",
       "                                                                                        'Sold',\n",
       "                                                                                        'Yr '\n",
       "                                                                                        'Sold',\n",
       "                                                                                        'MoYr '\n",
       "                                                                                        'Sold']),\n",
       "                                                                                      ('standardscaler',\n",
       "                                                                                       StandardScaler(),\n",
       "                                                                                       <sklearn.compose._column_transformer.make_column_selector object at 0x000002552E37D970>)],\n",
       "                                                                        verbose_feature_names_out=False)),\n",
       "                                                     ('elasticnet',\n",
       "                                                      ElasticNet(alpha=0.003,\n",
       "                                                                 l1_ratio=0.2,\n",
       "                                                                 max_iter=30000,\n",
       "                                                                 selection='random'))]))"
      ]
     },
     "execution_count": 59,
     "metadata": {},
     "output_type": "execute_result"
    }
   ],
   "source": [
    "squares_elastic_net_log_highreg.fit(X_all, y)"
   ]
  },
  {
   "cell_type": "code",
   "execution_count": 60,
   "metadata": {},
   "outputs": [
    {
     "name": "stdout",
     "output_type": "stream",
     "text": [
      "0.936563134331915\n"
     ]
    }
   ],
   "source": [
    "run_model(squares_elastic_net_log_highreg, 'squares_elasticnet_log_highreg', X = X_all, X_test = X_test_all)"
   ]
  },
  {
   "cell_type": "markdown",
   "metadata": {},
   "source": [
    "Overfit about 1350."
   ]
  },
  {
   "cell_type": "code",
   "execution_count": 61,
   "metadata": {},
   "outputs": [
    {
     "data": {
      "text/plain": [
       "19957.754719157405"
      ]
     },
     "execution_count": 61,
     "metadata": {},
     "output_type": "execute_result"
    }
   ],
   "source": [
    "# Kaggle score 21312\n",
    "mean_squared_error(y, squares_elastic_net_log_highreg.predict(X_all), squared = False)"
   ]
  },
  {
   "cell_type": "code",
   "execution_count": 94,
   "metadata": {},
   "outputs": [],
   "source": [
    "preds = pd.Series(squares_elastic_net_log.predict(X_all), index = y.index)"
   ]
  },
  {
   "cell_type": "code",
   "execution_count": 95,
   "metadata": {},
   "outputs": [],
   "source": [
    "residuals_en = y - preds"
   ]
  },
  {
   "cell_type": "code",
   "execution_count": 96,
   "metadata": {},
   "outputs": [
    {
     "data": {
      "text/plain": [
       "<AxesSubplot:>"
      ]
     },
     "execution_count": 96,
     "metadata": {},
     "output_type": "execute_result"
    },
    {
     "data": {
      "image/png": "[encoded data removed]",
      "text/plain": [
       "<Figure size 432x288 with 1 Axes>"
      ]
     },
     "metadata": {
      "needs_background": "light"
     },
     "output_type": "display_data"
    }
   ],
   "source": [
    "residuals_en.hist()"
   ]
  },
  {
   "cell_type": "code",
   "execution_count": 97,
   "metadata": {},
   "outputs": [
    {
     "data": {
      "text/plain": [
       "count      2051.000000\n",
       "mean       1050.605348\n",
       "std       18971.576903\n",
       "min     -115336.473837\n",
       "25%       -8294.611319\n",
       "50%         202.592594\n",
       "75%        9085.388239\n",
       "max      155640.072090\n",
       "dtype: float64"
      ]
     },
     "execution_count": 97,
     "metadata": {},
     "output_type": "execute_result"
    }
   ],
   "source": [
    "residuals_en.describe()"
   ]
  },
  {
   "cell_type": "code",
   "execution_count": 98,
   "metadata": {},
   "outputs": [
    {
     "data": {
      "text/plain": [
       "skew    1.170186\n",
       "kurt    9.429565\n",
       "dtype: float64"
      ]
     },
     "execution_count": 98,
     "metadata": {},
     "output_type": "execute_result"
    }
   ],
   "source": [
    "residuals_en.agg([pd.Series.skew, pd.Series.kurtosis])"
   ]
  },
  {
   "cell_type": "code",
   "execution_count": 99,
   "metadata": {},
   "outputs": [
    {
     "data": {
      "text/plain": [
       "count      2051.000000\n",
       "mean     180419.096261\n",
       "std       75433.745934\n",
       "min       32360.320451\n",
       "25%      128758.880964\n",
       "50%      162630.624736\n",
       "75%      214331.464848\n",
       "max      553568.638754\n",
       "dtype: float64"
      ]
     },
     "execution_count": 99,
     "metadata": {},
     "output_type": "execute_result"
    }
   ],
   "source": [
    "preds.describe()"
   ]
  },
  {
   "cell_type": "code",
   "execution_count": 101,
   "metadata": {},
   "outputs": [],
   "source": [
    "residuals_en.to_csv('datasets/enet_residuals.csv')"
   ]
  },
  {
   "cell_type": "markdown",
   "metadata": {},
   "source": [
    "#### Average elastic net and ridge"
   ]
  },
  {
   "cell_type": "code",
   "execution_count": 72,
   "metadata": {},
   "outputs": [
    {
     "data": {
      "text/plain": [
       "array([122157.09836173, 160764.66027174, 210381.52822133, 105986.06346531,\n",
       "       177637.92082855])"
      ]
     },
     "execution_count": 72,
     "metadata": {},
     "output_type": "execute_result"
    }
   ],
   "source": [
    "preds_ridge[:5]"
   ]
  },
  {
   "cell_type": "code",
   "execution_count": 74,
   "metadata": {},
   "outputs": [
    {
     "data": {
      "text/plain": [
       "array([147207.50922544, 155963.47319991, 210759.35766429, 109136.69487063,\n",
       "       181652.04510925])"
      ]
     },
     "execution_count": 74,
     "metadata": {},
     "output_type": "execute_result"
    }
   ],
   "source": [
    "preds_enet[:5]"
   ]
  },
  {
   "cell_type": "code",
   "execution_count": 90,
   "metadata": {},
   "outputs": [],
   "source": [
    "preds_avg = (preds_ridge + preds_enet)/2"
   ]
  },
  {
   "cell_type": "code",
   "execution_count": 91,
   "metadata": {},
   "outputs": [],
   "source": [
    "pd.DataFrame(preds_avg, index = X_test.index, columns = ['SalePrice']).to_csv('submission/ridge_enet_avg.csv')"
   ]
  },
  {
   "cell_type": "code",
   "execution_count": null,
   "metadata": {},
   "outputs": [],
   "source": []
  }
 ],
 "metadata": {
  "interpreter": {
   "hash": "9212599b6527739aacc5bcb356ff64f10af8be4731f2141d8d60dd08601fabb0"
  },
  "kernelspec": {
   "display_name": "Python 3.9.7 64-bit ('base': conda)",
   "language": "python",
   "name": "python3"
  },
  "language_info": {
   "codemirror_mode": {
    "name": "ipython",
    "version": 3
   },
   "file_extension": ".py",
   "mimetype": "text/x-python",
   "name": "python",
   "nbconvert_exporter": "python",
   "pygments_lexer": "ipython3",
   "version": "3.9.7"
  },
  "orig_nbformat": 4
 },
 "nbformat": 4,
 "nbformat_minor": 2
}
